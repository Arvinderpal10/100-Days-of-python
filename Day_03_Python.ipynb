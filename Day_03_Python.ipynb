{
  "nbformat": 4,
  "nbformat_minor": 0,
  "metadata": {
    "colab": {
      "name": "Day-03-Python.ipynb",
      "provenance": [],
      "authorship_tag": "ABX9TyP6tPVQARqkYcfA1gQ3bwNL"
    },
    "kernelspec": {
      "name": "python3",
      "display_name": "Python 3"
    },
    "language_info": {
      "name": "python"
    }
  },
  "cells": [
    {
      "cell_type": "code",
      "metadata": {
        "id": "ttCGav5kA2e9"
      },
      "source": [
        "#100 days of Python Code -->>>> Day-03 "
      ],
      "execution_count": 2,
      "outputs": []
    },
    {
      "cell_type": "code",
      "metadata": {
        "colab": {
          "base_uri": "https://localhost:8080/"
        },
        "id": "A_hphYj6BKo9",
        "outputId": "b8902ce5-e437-47ef-b783-18b040ff8f2b"
      },
      "source": [
        "#Conditionals \n",
        "#if else modulo operator\n",
        "\n",
        "#Day-03 Code Challenge 1\n",
        "number = int(input(\"Enter the number : \"))\n",
        "if number%2==0:\n",
        "  print(\"This is an even number.\")\n",
        "else :\n",
        "  print(\"This is an odd number.\")"
      ],
      "execution_count": 3,
      "outputs": [
        {
          "output_type": "stream",
          "text": [
            "Enter the number : 45\n",
            "This is an odd number.\n"
          ],
          "name": "stdout"
        }
      ]
    },
    {
      "cell_type": "code",
      "metadata": {
        "colab": {
          "base_uri": "https://localhost:8080/"
        },
        "id": "Xl0FIbknCabn",
        "outputId": "f2b6d83a-8e54-44fe-f9fc-2805f5152982"
      },
      "source": [
        "#Nested \n",
        "#Ticket Counter \n",
        "height= int(input(\"Enter your height in cm : \"))\n",
        "age= int(input(\"Enter your age : \"))\n",
        "if height>=120:\n",
        "  if age < 18:\n",
        "    print(\"You can ride the rollercoaster for $7.\")\n",
        "  else: \n",
        "    print(\"You can ride the rollercaoster for $12.\")\n",
        "else :\n",
        "  print(\"Sorry! You can't ride rollercoaster.\")"
      ],
      "execution_count": 6,
      "outputs": [
        {
          "output_type": "stream",
          "text": [
            "Enter your height in cm : 112\n",
            "Enter your age : 18\n",
            "Sorry! You can't ride rollercoaster.\n"
          ],
          "name": "stdout"
        }
      ]
    },
    {
      "cell_type": "code",
      "metadata": {
        "colab": {
          "base_uri": "https://localhost:8080/"
        },
        "id": "XaTRBNdyE4Ru",
        "outputId": "e674b2fe-b81f-40b3-c017-f9e789c6f35b"
      },
      "source": [
        "#More Conditions \n",
        "#Ticket Counter code -2 \n",
        "height= int(input(\"Enter your height in cm : \"))\n",
        "age= int(input(\"Enter your age : \"))\n",
        "if height>=120:\n",
        "  if age < 12:\n",
        "    print(\"You can ride the rollercoaster for $5.\")\n",
        "  elif age<=18: \n",
        "    print(\"You can ride the rollercaoster for $7.\")\n",
        "  else :\n",
        "    print(\"You can ride the rollercoaster for $12.\")\n",
        "else :\n",
        "  print(\"Sorry! You can't ride rollercoaster.\")"
      ],
      "execution_count": 7,
      "outputs": [
        {
          "output_type": "stream",
          "text": [
            "Enter your height in cm : 130\n",
            "Enter your age : 12\n",
            "You can ride the rollercaoster for $7.\n"
          ],
          "name": "stdout"
        }
      ]
    },
    {
      "cell_type": "code",
      "metadata": {
        "id": "ZB4QQo-vFw9G"
      },
      "source": [
        "#Python code Day - 03 Code Challenge -02\n",
        "# More Advanced BMI calculator \n",
        "\n",
        "height=float(input(\"Enter your height in m : \"))\n",
        "weight = int(input(\"Enter your weight in kg : \"))\n",
        "\n",
        "BMI = round(weight/(height**2),1)\n",
        "# print(BMI) \n",
        "if BMI<18.5:\n",
        "  print(f\"Your BMI is {BMI} and You are underweight.\")\n",
        "elif BMI<25:\n",
        "  print(f\"Your BMI is {BMI} and You are normal weight person.\")\n",
        "elif BMI<30:\n",
        "  print(f\"Your BMI is {BMI} and You are overweight.\")\n",
        "elif BMI<35:\n",
        "  print(f\"Your BMI is {BMI} and You are Obese.\")\n",
        "else:\n",
        "  print(f\"Your BMI is {BMI} and You are clinically obese.\")"
      ],
      "execution_count": null,
      "outputs": []
    },
    {
      "cell_type": "code",
      "metadata": {
        "colab": {
          "base_uri": "https://localhost:8080/"
        },
        "id": "5HdBXw6QJxVj",
        "outputId": "b47a91dd-8234-4f5c-c889-efffa5ef96d6"
      },
      "source": [
        "#leap year challenge \n",
        "#Day-3 code challenge -03\n",
        "\n",
        "print(\"Welcome to Leap Year Checker :\")\n",
        "year = int(input(\"Enter the year of your choice :\"))\n",
        "if year%4==0:\n",
        "  if year%100!=0:\n",
        "      print(\"Leap Year\")\n",
        "  else:\n",
        "      if year%400==0:\n",
        "        print(\"Leap Year.\")\n",
        "      else: \n",
        "        print(\"not a leap year\")\n",
        "else:\n",
        "  print(\"Not a leap year.\")"
      ],
      "execution_count": 23,
      "outputs": [
        {
          "output_type": "stream",
          "text": [
            "Welcome to Leap Year Checker :\n",
            "Enter the year of your choice :1200\n",
            "Leap Year.\n"
          ],
          "name": "stdout"
        }
      ]
    },
    {
      "cell_type": "code",
      "metadata": {
        "colab": {
          "base_uri": "https://localhost:8080/"
        },
        "id": "TX2IH7dhTnVd",
        "outputId": "c52ea5d2-5d95-4974-ba48-aba576a3c3ef"
      },
      "source": [
        "#Ticket Counter Advanced \n",
        "height= int(input(\"Enter your height in cm : \"))\n",
        "age= int(input(\"Enter your age : \"))\n",
        "bill=0\n",
        "if height>=120:\n",
        "  if age < 12:\n",
        "    bill =5\n",
        "    print(f\"You can ride the rollercoaster for ${bill}.\")\n",
        "  elif age<=18: \n",
        "    bill=7\n",
        "    print(f\"You can ride the rollercaoster for ${bill}.\")\n",
        "  else :\n",
        "    bill=12\n",
        "    print(f\"You can ride the rollercoaster for ${bill}.\")\n",
        "  \n",
        "  #For photo taking\n",
        "  wants_photo=input(\"Do you want to take photos ? If Yes Enter 'Y' else Enter 'N' \" )\n",
        "  if wants_photo=='Y':\n",
        "    print(f'Your Final bill is ${bill+3}')\n",
        "  else :\n",
        "    print(f\"Your Final bill is ${bill}\")\n",
        "else :\n",
        "  print(\"Sorry! You can't ride rollercoaster.\")"
      ],
      "execution_count": 29,
      "outputs": [
        {
          "output_type": "stream",
          "text": [
            "Enter your height in cm : 130\n",
            "Enter your age : 17\n",
            "You can ride the rollercaoster for $7.\n",
            "Do you want to take photos ? If Yes Enter 'Y' else Enter 'N' Y\n",
            "Your Final bill is $10\n"
          ],
          "name": "stdout"
        }
      ]
    },
    {
      "cell_type": "code",
      "metadata": {
        "colab": {
          "base_uri": "https://localhost:8080/"
        },
        "id": "khTZgeVFZ6ev",
        "outputId": "085cfbc0-bd3f-42d8-bb48-3c205c349e53"
      },
      "source": [
        "#Day -3 Code Challenge 4\n",
        "#Pizza Order \n",
        "print(\"Pizza Hut! Welcomes you.\")\n",
        "print()\n",
        "print('--------**************-----------')\n",
        "print()\n",
        "pizza_type=input((\"Please select what type of Pizza you want? Enter S for small,M for Middle and L for Large: \"))\n",
        "print()\n",
        "price=0\n",
        "if pizza_type=='S':\n",
        "  price=15\n",
        "  print(f\"Great! You selected Small Size Pizza. The original price is ${price}.\")\n",
        "elif pizza_type=='M':\n",
        "  price=20\n",
        "  print(f\"Great! You selected Middle Size Pizza.The original price is ${price}.\")\n",
        "else:\n",
        "  price=25\n",
        "  print(f\"Great! You selected Large Size Pizza.The original price is ${price}.\")\n",
        "\n",
        "print()\n",
        "#Extra toppings \n",
        "#Pepperoni \n",
        "pepperoni= input(\"Do you want pepperoni? Enter 'Y' for yes and 'N' for no \" )\n",
        "print()\n",
        "if pepperoni=='Y' and pizza_type=='S':\n",
        "  price+=2\n",
        "  print(f'Your bill with pepperoni is ${price}')\n",
        "if pepperoni=='Y' and (pizza_type=='M' or pizza_type=='L'):\n",
        "  price+=3\n",
        "  print(f'Your bill with pepperoni is ${price}')\n",
        "\n",
        "\n",
        "print()\n",
        "#Extra Cheese \n",
        "extra_cheese= input(\"Do you want extra cheese ? Enter 'Y' for yes and 'N' for no \")\n",
        "print()\n",
        "if extra_cheese=='Y':\n",
        "  price+=1\n",
        "  print(f'Your final bill is ${price}')\n",
        "else:\n",
        "   print(f'Your final bill is ${price}')\n",
        "  \n"
      ],
      "execution_count": 34,
      "outputs": [
        {
          "output_type": "stream",
          "text": [
            "Pizza Hut! Welcomes you.\n",
            "\n",
            "--------**************-----------\n",
            "\n",
            "Please select what type of Pizza you want? Enter S for small,M for Middle and L for Large: L\n",
            "\n",
            "Great! You selected Large Size Pizza.The original price is $25.\n",
            "\n",
            "Do you want pepperoni? Enter 'Y' for yes and 'N' for no Y\n",
            "\n",
            "Your bill with pepperoni is $28\n",
            "\n",
            "Do you want extra cheese ? Enter 'Y' for yes and 'N' for no Y\n",
            "\n",
            "Your final bill is $29\n"
          ],
          "name": "stdout"
        }
      ]
    },
    {
      "cell_type": "code",
      "metadata": {
        "colab": {
          "base_uri": "https://localhost:8080/"
        },
        "id": "qDEjs6G1heXX",
        "outputId": "bbca2e38-dec1-4338-a36b-246cd8cfaad7"
      },
      "source": [
        "#Love Calculator \n",
        "#Day -3 Code Challenge 5\n",
        "print(\"^^^^^^^^^^^^^^^^ LOVE CALCULATOR ^^^^^^^^^^^^^^^^^^^^^^^^^^^^^\")\n",
        "name1= (input(\"Enter your Name: \")).lower()\n",
        "print(\"********************************************\")\n",
        "name2= (input(\"Enter your crush name: \")).lower()\n",
        "print()\n",
        "firstNumber=name1.count(\"t\")+ name2.count(\"t\")+ name1.count(\"r\") + name2.count(\"r\") + name1.count(\"u\")+name2.count(\"u\")+ name1.count(\"e\")+name2.count(\"e\")\n",
        "secondNumber=name1.count(\"l\")+ name2.count(\"l\")+ name1.count(\"o\") + name2.count(\"o\") + name1.count(\"v\")+name2.count(\"v\")+ name1.count(\"e\")+name2.count(\"e\")\n",
        "\n",
        "result= str(firstNumber) + str(secondNumber) \n",
        "result = int(result)\n",
        "if result<10 or result >90:\n",
        "  print(f\"Your love score is {result},you are like coke and mentos.\")\n",
        "elif result >=40 or result <=50:\n",
        "  print(f\"Your love score is {result},you are alright together.\")\n",
        "\n",
        "else :\n",
        "  print(f\"Your love score is {result}.\")"
      ],
      "execution_count": 40,
      "outputs": [
        {
          "output_type": "stream",
          "text": [
            "^^^^^^^^^^^^^^^^ LOVE CALCULATOR ^^^^^^^^^^^^^^^^^^^^^^^^^^^^^\n",
            "Enter your Name: Angela Yu\n",
            "********************************************\n",
            "Enter your crush name: Jack bauer\n",
            "\n",
            "Your love score is 53,you are alright together.\n"
          ],
          "name": "stdout"
        }
      ]
    },
    {
      "cell_type": "code",
      "metadata": {
        "colab": {
          "base_uri": "https://localhost:8080/"
        },
        "id": "DOQJGnYtnetH",
        "outputId": "1aae8c46-adb1-4434-f595-15ac85bd5e13"
      },
      "source": [
        "#Love Calculator \n",
        "#Day -3 Code Challenge 5\n",
        "print(\"^^^^^^^^^^^^^^^^ LOVE CALCULATOR ^^^^^^^^^^^^^^^^^^^^^^^^^^^^^\")\n",
        "name1= (input(\"Enter your Name: \")).lower()\n",
        "print(\"********************************************\")\n",
        "name2= (input(\"Enter your crush name: \")).lower()\n",
        "print()\n",
        "combined_string=name1+name2\n",
        "true=combined_string.count(\"t\")+ combined_string.count(\"r\")+ combined_string.count(\"u\") + combined_string.count(\"e\")\n",
        "love=combined_string.count(\"l\")+ combined_string.count(\"o\")+ combined_string.count(\"v\") + combined_string.count(\"e\") \n",
        "\n",
        "result= str(true) + str(love) \n",
        "result = int(result)\n",
        "if result<10 or result >90:\n",
        "  print(f\"Your love score is {result},you are like coke and mentos.\")\n",
        "elif result >=40 or result <=50:\n",
        "  print(f\"Your love score is {result},you are alright together.\")\n",
        "\n",
        "else :\n",
        "  print(f\"Your love score is {result}.\")"
      ],
      "execution_count": 41,
      "outputs": [
        {
          "output_type": "stream",
          "text": [
            "^^^^^^^^^^^^^^^^ LOVE CALCULATOR ^^^^^^^^^^^^^^^^^^^^^^^^^^^^^\n",
            "Enter your Name: Angela Yu\n",
            "********************************************\n",
            "Enter your crush name: Jack bauer\n",
            "\n",
            "Your love score is 53,you are alright together.\n"
          ],
          "name": "stdout"
        }
      ]
    },
    {
      "cell_type": "code",
      "metadata": {
        "id": "DPWDSDBqoT1U"
      },
      "source": [
        "#Treasure Island Final Challenge Day-03\n",
        "print('''\n",
        "*******************************************************************************\n",
        "         .\n",
        "      .                    |~~             .\n",
        "                  .     ___|___      .\n",
        "                       ((((())))\n",
        "          .           (((((()))))         .\n",
        "                    |-------------|\n",
        "              +    I_I_I_I_I_I_I_I_I    +\n",
        "             (()   |---------------|   (()\n",
        "            |---|  ||-| |-| |-| |-||  |---|\n",
        "  _________|-----|_|---------------|_|-----|_________\n",
        "  I_I_I_I_I_I_I_I|I_I_I_I_I_I_I_I_I_I|I_I_I_I_I_I_I_|\n",
        "  |-------|------|-------------------|------|-------|\n",
        "  ||-| |-||  |-| ||-| |-| |-| |-| |-|| |-|  ||-| |-||\n",
        "((|-------|------|-------------------|------|-------|))\n",
        "()|  |_|  |  |_| |::::: ------- :::::| |_|  |  |_|  |()\n",
        "))|  |_|  |  |_| | |_| |_.-\"-._| |_| | |_|  |  |_|  |((\n",
        "()|-------|------| |_| | | | | | |_| |------|-------|()\n",
        "@@@@@@@@@@@@@@@@@|-----|_|_|_|_|-----|@@@@@@@@@@@@@@@@@\n",
        "Sher^           @@@@/=============\\@@@@\n",
        "                       /       \\\n",
        "\n",
        "*******************************************************************************\n",
        "\n",
        "''')\n",
        "\n",
        "print(\"Welcome to Palace Escape.\")\n",
        "\n",
        "print(\"Your mission is to come out of the Royal Palace.\")\n",
        "\n",
        "choice1=input(\"You're in a room. Do you wanna come out now ? Type 'Y' or 'N' \")\n",
        "choice1=choice1.lower()\n",
        "if choice1=='left'\n",
        "\n"
      ],
      "execution_count": null,
      "outputs": []
    },
    {
      "cell_type": "code",
      "metadata": {
        "id": "3BpMzlxBeS7S"
      },
      "source": [
        ""
      ],
      "execution_count": null,
      "outputs": []
    }
  ]
}