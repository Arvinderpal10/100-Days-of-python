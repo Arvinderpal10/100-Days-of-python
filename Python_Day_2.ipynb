{
  "nbformat": 4,
  "nbformat_minor": 0,
  "metadata": {
    "colab": {
      "name": "Python-Day-2.ipynb",
      "provenance": [],
      "authorship_tag": "ABX9TyPGvNiCI/czSqbg6zN7jnM6"
    },
    "kernelspec": {
      "name": "python3",
      "display_name": "Python 3"
    },
    "language_info": {
      "name": "python"
    }
  },
  "cells": [
    {
      "cell_type": "code",
      "metadata": {
        "id": "sP2CnRa8YWnk"
      },
      "source": [
        "#Day-2 100 Days of Python\n",
        "#Data Types\n"
      ],
      "execution_count": null,
      "outputs": []
    },
    {
      "cell_type": "code",
      "metadata": {
        "colab": {
          "base_uri": "https://localhost:8080/"
        },
        "id": "_4EX2eXXcX2i",
        "outputId": "ff6cd8ba-8948-451f-e5c6-590679892eda"
      },
      "source": [
        "#Integer-> Number without decimal\n",
        "num = 3456\n",
        "print(num)\n",
        "print(\"Printing the type of a variable or object:\")\n",
        "print(type(num))\n",
        "\n",
        "#Conversion into other types\n",
        "print(float(num))\n",
        "print(str(num))\n",
        "print(bool(num))"
      ],
      "execution_count": 5,
      "outputs": [
        {
          "output_type": "stream",
          "text": [
            "3456\n",
            "Printing the type of a variable or object:\n",
            "<class 'int'>\n",
            "3456.0\n",
            "3456\n",
            "True\n"
          ],
          "name": "stdout"
        }
      ]
    },
    {
      "cell_type": "code",
      "metadata": {
        "colab": {
          "base_uri": "https://localhost:8080/"
        },
        "id": "GhSZY_-XdXGl",
        "outputId": "29bba4dc-00e5-4a0f-bc11-4e1e291e4f80"
      },
      "source": [
        "#Float -> Number with decimal values\n",
        "num= 23456.67\n",
        "print(num)\n",
        "print(\"Printing the type of a variable or object:\")\n",
        "print(type(num))\n",
        "\n",
        "#Conversion into other types\n",
        "print(int(num))\n",
        "print(str(num))\n",
        "print(bool(num))"
      ],
      "execution_count": 8,
      "outputs": [
        {
          "output_type": "stream",
          "text": [
            "23456.67\n",
            "Printing the type of a variable or object:\n",
            "<class 'float'>\n",
            "23456\n",
            "23456.67\n",
            "True\n"
          ],
          "name": "stdout"
        }
      ]
    },
    {
      "cell_type": "code",
      "metadata": {
        "colab": {
          "base_uri": "https://localhost:8080/"
        },
        "id": "kcwfzekDfmVe",
        "outputId": "1b3538d8-aa24-49c3-d513-72f7aee858fe"
      },
      "source": [
        "#DAY-2 CODE Challenge-1\n",
        "#Learning -> Input function returns a string everytime\n",
        "num = input(\"Enter a two digit number:\")\n",
        "first=int(num[0])\n",
        "second=int(num[1])\n",
        "print(\"Sum of digits of a number is :\"+ str(first + second))\n",
        "\n"
      ],
      "execution_count": 20,
      "outputs": [
        {
          "output_type": "stream",
          "text": [
            "Enter a two digit number:46\n",
            "Sum of digits of a number is :10\n"
          ],
          "name": "stdout"
        }
      ]
    },
    {
      "cell_type": "code",
      "metadata": {
        "id": "h3yUKdsneaXv"
      },
      "source": [
        "#Boolean ->True or False\n",
        "num1= False\n",
        "num2= True\n",
        "print(type(num1))\n",
        "print(type(num2))\n",
        "\n",
        "#Conversion into other types\n",
        "print(str(num1))\n",
        "print(str(num2))\n",
        "print(float(num1))\n",
        "print(float(num2))\n",
        "print(int(num1))\n",
        "print(int(num2))\n"
      ],
      "execution_count": null,
      "outputs": []
    },
    {
      "cell_type": "code",
      "metadata": {
        "id": "v0u9OM_qisKm"
      },
      "source": [
        "#Mathmatical Operations using python\n",
        "#Addition \n",
        "print(3+5)\n",
        "#Subtraction\n",
        "print(5-2)\n",
        "#Multiplication\n",
        "print(3*5)\n",
        "#Exponential \n",
        "print(3**2)\n",
        "#Division \n",
        "print(6/2) #will always return float\n",
        "#for integer result use //\n",
        "print(7//3)\n",
        "print(7/3)\n"
      ],
      "execution_count": null,
      "outputs": []
    },
    {
      "cell_type": "code",
      "metadata": {
        "colab": {
          "base_uri": "https://localhost:8080/"
        },
        "id": "zn96TBoukFGJ",
        "outputId": "c58f4bd4-1165-4194-83df-1b089e743efc"
      },
      "source": [
        "#Day-2 Code Challenge -2\n",
        "#BMI calculator\n",
        "\n",
        "height= float(input(\"Enter your height in meters : \"))\n",
        "weight= int(input(\"Enter your weight in killograms : \"))\n",
        "BMI= weight/(height*height)\n",
        "print(int(BMI))"
      ],
      "execution_count": 30,
      "outputs": [
        {
          "output_type": "stream",
          "text": [
            "Enter your height in meters : 1.75\n",
            "Enter your weight in killograms : 80\n",
            "26\n"
          ],
          "name": "stdout"
        }
      ]
    },
    {
      "cell_type": "code",
      "metadata": {
        "id": "a_mPdtIkmIw1"
      },
      "source": [
        "# // and / operator\n",
        "\n",
        "print(5.6//7) # will give float answer as one of the number is float\n",
        "print(6//7) # will give integer result if only and only if both operands are of int type\n",
        "\n",
        "\n",
        "#round function in python\n",
        "print(round(8/3))\n",
        "#for precision  \n",
        "print(round(8/3,3))\n",
        "print(round(9/3,4))\n",
        "print(round(9//3,4))\n",
        "print(round(8//3))"
      ],
      "execution_count": null,
      "outputs": []
    },
    {
      "cell_type": "code",
      "metadata": {
        "id": "CQ_tfBpzotP2"
      },
      "source": [
        "#f-Strings in python \n",
        "name= \"Arvinder Pal\"\n",
        "age=34\n",
        "speak=True\n",
        "print(f\"Hi my name is {name}. I'm {age} years old. I always speak {speak}.\")\n"
      ],
      "execution_count": null,
      "outputs": []
    },
    {
      "cell_type": "code",
      "metadata": {
        "id": "gWx1f5-wrSaA"
      },
      "source": [
        "#Day-2 Code Challenge -3\n",
        "age = int(input(\"Enter your age:\"))\n",
        "print(f\"You have {90*365 -age*365} days,{90*52-age*52} weeks and {90*12-age*12} months left\")\n"
      ],
      "execution_count": null,
      "outputs": []
    },
    {
      "cell_type": "code",
      "metadata": {
        "colab": {
          "base_uri": "https://localhost:8080/"
        },
        "id": "wjUDUIkTtQdL",
        "outputId": "d45f79b2-d025-4ea7-e5ff-e568532412ff"
      },
      "source": [
        "#Day-2 Final Challenge \n",
        "#Tip Calculator\n",
        "print(\"Welcome to the tip calculator.\")\n",
        "total_bill=float(input(\"Enter your total bill : $\"))\n",
        "tip = float(input(\"What percentage tip would you like to give ? 10, 12 or 15 ?: \"))\n",
        "tip=1.00+ tip/100;\n",
        "total_bill= total_bill*tip\n",
        "people=int(input(\"How many people you want to split the bill? \"))\n",
        "total_bill=total_bill/people\n",
        "print(f\"Each person should pay : ${round(total_bill,2)}\")\n",
        "\n"
      ],
      "execution_count": 58,
      "outputs": [
        {
          "output_type": "stream",
          "text": [
            "Welcome to the tip calculator.\n",
            "Enter your total bill : $124.56\n",
            "What percentage tip would you like to give ? 10, 12 or 15 ?: 12\n",
            "How many people you want to split the bill? 7\n",
            "Each person should pay : $19.93\n"
          ],
          "name": "stdout"
        }
      ]
    }
  ]
}