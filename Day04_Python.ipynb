{
  "nbformat": 4,
  "nbformat_minor": 0,
  "metadata": {
    "colab": {
      "name": "Day04-Python.ipynb",
      "provenance": [],
      "collapsed_sections": [],
      "authorship_tag": "ABX9TyPJXaJqBypVSedLFCpmob1O"
    },
    "kernelspec": {
      "name": "python3",
      "display_name": "Python 3"
    },
    "language_info": {
      "name": "python"
    }
  },
  "cells": [
    {
      "cell_type": "code",
      "metadata": {
        "colab": {
          "base_uri": "https://localhost:8080/"
        },
        "id": "xkDWC6va_WkP",
        "outputId": "90cb27f9-e55e-4cc6-fb12-a20a7daf28aa"
      },
      "source": [
        "#Randomisation and Python Lists\n",
        "#Code challenge -1 \n",
        "#Tossing coin\n",
        "import random\n",
        "print(\"Virtual Coin Toss Game : \")\n",
        "random_int = random.randint(0,1) \n",
        "if random_int==1:\n",
        "  print(\"Heads\")\n",
        "else:\n",
        "  print(\"Tails\")\n"
      ],
      "execution_count": null,
      "outputs": [
        {
          "output_type": "stream",
          "text": [
            "Virtual Coin Toss Game : \n",
            "Heads\n"
          ],
          "name": "stdout"
        }
      ]
    },
    {
      "cell_type": "code",
      "metadata": {
        "colab": {
          "base_uri": "https://localhost:8080/"
        },
        "id": "79hqsuedKK4y",
        "outputId": "5665ef39-430f-4ebf-c061-70b3c4e0a15f"
      },
      "source": [
        "#Python Lists\n",
        "characters=[\"Ambitious\",\"Bold\",\"Caring\",\"Daring\",\"GogFather\",\"Honest\",\"Inocent\"]\n",
        "#printing whole list\n",
        "print(characters)\n",
        "print()\n",
        "#printing a single element \n",
        "print(characters[0])\n",
        "#printing element from end \n",
        "print(characters[-1])\n",
        "\n",
        "print()\n",
        "\n",
        "#append: adding an item at end\n",
        "characters.append(\"Stylish\")\n",
        "print(characters)\n",
        "print()\n"
      ],
      "execution_count": null,
      "outputs": [
        {
          "output_type": "stream",
          "text": [
            "['Ambitious', 'Bold', 'Caring', 'Daring', 'GogFather', 'Honest', 'Inocent']\n",
            "\n",
            "Ambitious\n",
            "Inocent\n",
            "\n",
            "['Ambitious', 'Bold', 'Caring', 'Daring', 'GogFather', 'Honest', 'Inocent', 'Stylish']\n",
            "\n"
          ],
          "name": "stdout"
        }
      ]
    },
    {
      "cell_type": "code",
      "metadata": {
        "colab": {
          "base_uri": "https://localhost:8080/"
        },
        "id": "T-KXI9OVcyAK",
        "outputId": "15d19005-d8cd-4492-ddcb-9d61ec9714a8"
      },
      "source": [
        "#Who will pay the bill code \n",
        "#Split function()\n",
        "names_string=input(\"Give me names of candidates to split :\")\n",
        "names=names_string.split(', ')\n",
        "# print(len(names))\n",
        "print(f\"{names[random.randint(0,len(names)-1)]} will pay this time.\")"
      ],
      "execution_count": null,
      "outputs": [
        {
          "output_type": "stream",
          "text": [
            "Give me names of candidates to split :Arvinder, Pal, Singh, Singhi, Bablu\n",
            "Bablu will pay this time.\n"
          ],
          "name": "stdout"
        }
      ]
    },
    {
      "cell_type": "code",
      "metadata": {
        "colab": {
          "base_uri": "https://localhost:8080/"
        },
        "id": "t_ZnpffGhe4b",
        "outputId": "87b4148d-09bb-4f32-c24c-7e8649851740"
      },
      "source": [
        "#Nested List\n",
        "product=[\"Google\",\"FaceBook\",\"Amazon\",\"NetFlix\",\"Apple\",\"PropTiger\"]\n",
        "service=[\"Walmart\",\"Accenture\",\"S2Tech\",\"Red Eye\",\"Great Tech\"]\n",
        "company =[product,service]\n",
        "# print(company)\n",
        "print(company[0]) #Will print product list\n",
        "print()\n",
        "print(company[1]) #will print service list\n",
        "print()\n",
        "print(company[0][2])\n",
        "print(company[0][-2])\n",
        "print()\n",
        "print(company[1][3])\n",
        "print(company[1][-3])\n"
      ],
      "execution_count": null,
      "outputs": [
        {
          "output_type": "stream",
          "text": [
            "['Google', 'FaceBook', 'Amazon', 'NetFlix', 'Apple', 'PropTiger']\n",
            "\n",
            "['Walmart', 'Accenture', 'S2Tech', 'Red Eye', 'Great Tech']\n",
            "\n",
            "Amazon\n",
            "Apple\n",
            "\n",
            "Red Eye\n",
            "S2Tech\n"
          ],
          "name": "stdout"
        }
      ]
    },
    {
      "cell_type": "code",
      "metadata": {
        "colab": {
          "base_uri": "https://localhost:8080/"
        },
        "id": "kTYJhE_RlPOF",
        "outputId": "a98ef5c9-7507-456b-d92e-924a4c618dc6"
      },
      "source": [
        "#Final Challenge Day-04\n",
        "import random\n",
        "\n",
        "rock = '''\n",
        "    _______\n",
        "---'   ____)\n",
        "      (_____)\n",
        "      (_____)\n",
        "      (____)\n",
        "---.__(___)\n",
        "'''\n",
        "\n",
        "paper = '''\n",
        "    _______\n",
        "---'   ____)____\n",
        "          ______)\n",
        "          _______)\n",
        "         _______)\n",
        "---.__________)\n",
        "'''\n",
        "\n",
        "scissors = '''\n",
        "    _______\n",
        "---'   ____)____\n",
        "          ______)\n",
        "       __________)\n",
        "      (____)\n",
        "---.__(___)\n",
        "'''\n",
        "game_art=[rock,paper,scissors]\n",
        "user_choice= int(input(\"What do you choose ? Type 0 for Rock, 1 for paper and 2 for scissor : \\n\"))\n",
        "computer_choice=random.randint(0,2)\n",
        "if user_choice >=3 or user_choice < 0:\n",
        "  print(\"You typed an invald number.You lose!\")\n",
        "else:\n",
        "    print(\"You chose : \")\n",
        "    print(game_art[user_choice])\n",
        "    print(f\"Computer chose : \")\n",
        "    print(game_art[computer_choice])\n",
        "    \n",
        "    if user_choice==0 and computer_choice==2:\n",
        "      print(\"You win!\")\n",
        "    elif user_choice==2 and computer_choice==0:\n",
        "      print(\"You lose!\")\n",
        "    elif user_choice==computer_choice:\n",
        "      print(\"It's draw.\")\n",
        "    elif user_choice < computer_choice:\n",
        "      print(\"You lose!\")\n",
        "    elif user_choice > computer_choice:\n",
        "      print(\"You win!\")\n",
        "\n",
        "  \n",
        "\n",
        "\n"
      ],
      "execution_count": null,
      "outputs": [
        {
          "output_type": "stream",
          "text": [
            "What do you choose ? Type 0 for Rock, 1 for paper and 2 for scissor : \n",
            "1\n",
            "You chose : \n",
            "\n",
            "    _______\n",
            "---'   ____)____\n",
            "          ______)\n",
            "          _______)\n",
            "         _______)\n",
            "---.__________)\n",
            "\n",
            "Computer chose : \n",
            "\n",
            "    _______\n",
            "---'   ____)____\n",
            "          ______)\n",
            "          _______)\n",
            "         _______)\n",
            "---.__________)\n",
            "\n",
            "It's draw.\n"
          ],
          "name": "stdout"
        }
      ]
    },
    {
      "cell_type": "code",
      "metadata": {
        "id": "8QBapdksT_5S"
      },
      "source": [
        ""
      ],
      "execution_count": null,
      "outputs": []
    }
  ]
}