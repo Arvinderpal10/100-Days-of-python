{
  "nbformat": 4,
  "nbformat_minor": 0,
  "metadata": {
    "colab": {
      "name": "Day12-Python.ipynb",
      "provenance": [],
      "collapsed_sections": [],
      "authorship_tag": "ABX9TyO9eoQJqXMYBBBhFJZfDJWJ"
    },
    "kernelspec": {
      "name": "python3",
      "display_name": "Python 3"
    },
    "language_info": {
      "name": "python"
    }
  },
  "cells": [
    {
      "cell_type": "code",
      "metadata": {
        "id": "z0UrdyiSX2zQ"
      },
      "source": [
        "#100 days of code Python Day -12"
      ],
      "execution_count": null,
      "outputs": []
    },
    {
      "cell_type": "code",
      "metadata": {
        "colab": {
          "base_uri": "https://localhost:8080/"
        },
        "id": "2mtGwF2uYAN1",
        "outputId": "6dc65f2d-e860-4d02-f880-dfcb552f927f"
      },
      "source": [
        "#global scope vs local scope \n",
        "#Global scope variable\n",
        "marks=12\n",
        "def scope():\n",
        "#local scope variable\n",
        "  marks=20\n",
        "  print(marks)\n",
        "\n",
        "scope()\n",
        "print(marks)"
      ],
      "execution_count": null,
      "outputs": [
        {
          "output_type": "stream",
          "text": [
            "20\n",
            "12\n"
          ],
          "name": "stdout"
        }
      ]
    },
    {
      "cell_type": "code",
      "metadata": {
        "colab": {
          "base_uri": "https://localhost:8080/"
        },
        "id": "YQsbA9zRZMaG",
        "outputId": "9e54837c-719a-4a14-c176-8cfe353d101b"
      },
      "source": [
        "#There is no block scope in python means variable inside if else for while can be accessed outside the block also\n",
        "city_list=[\"Singapore\",\"New York\",\"California\",\"Sydney\",\"Dubai\"]\n",
        "if True:\n",
        "  city_list[0]=\"Durban\"\n",
        "  # print(\"Check now\")\n",
        "  visit=f\"{city_list[0]} is a good place to visit.\"\n",
        "  #Although visit is defined inside if block but we can access it outside the block too this proves no block scope in python\n",
        "print(visit)"
      ],
      "execution_count": null,
      "outputs": [
        {
          "output_type": "stream",
          "text": [
            "Durban is a good place to visit.\n"
          ],
          "name": "stdout"
        }
      ]
    },
    {
      "cell_type": "code",
      "metadata": {
        "colab": {
          "base_uri": "https://localhost:8080/",
          "height": 197
        },
        "id": "LUmPEgiPbaoW",
        "outputId": "e727cd01-e572-4254-dac1-04ca4ef36ca5"
      },
      "source": [
        "#if we put the code in a function then wrining same line will give error\n",
        "def scope_error():\n",
        "  city_list=[\"Singapore\",\"New York\",\"California\",\"Sydney\",\"Dubai\"]\n",
        "  if True:\n",
        "    city_list[0]=\"Durban\"\n",
        "    print(\"Check now\")\n",
        "    greet=\"Hello\"\n",
        "print(greet)"
      ],
      "execution_count": null,
      "outputs": [
        {
          "output_type": "error",
          "ename": "NameError",
          "evalue": "ignored",
          "traceback": [
            "\u001b[0;31m---------------------------------------------------------------------------\u001b[0m",
            "\u001b[0;31mNameError\u001b[0m                                 Traceback (most recent call last)",
            "\u001b[0;32m<ipython-input-19-83c6a3f2f198>\u001b[0m in \u001b[0;36m<module>\u001b[0;34m()\u001b[0m\n\u001b[1;32m      8\u001b[0m \u001b[0;34m\u001b[0m\u001b[0m\n\u001b[1;32m      9\u001b[0m \u001b[0;34m\u001b[0m\u001b[0m\n\u001b[0;32m---> 10\u001b[0;31m \u001b[0mprint\u001b[0m\u001b[0;34m(\u001b[0m\u001b[0mgreet\u001b[0m\u001b[0;34m)\u001b[0m\u001b[0;34m\u001b[0m\u001b[0;34m\u001b[0m\u001b[0m\n\u001b[0m",
            "\u001b[0;31mNameError\u001b[0m: name 'greet' is not defined"
          ]
        }
      ]
    },
    {
      "cell_type": "code",
      "metadata": {
        "colab": {
          "base_uri": "https://localhost:8080/"
        },
        "id": "Lma-qBVNfJBp",
        "outputId": "c989fb63-e6ed-43c4-c880-41f888a73212"
      },
      "source": [
        "#Modifying Global variables \n",
        "# global keyword in python\n",
        "print('''\n",
        "*************** In this code we will learn how to modify a gblobal variable : Well in any programming language it is advised not to change \n",
        "*************************************gloabl varibles as it may crash your code.''')\n",
        "\n",
        "marks =30\n",
        "def modify_marks():\n",
        "  global marks\n",
        "  marks=marks+35\n",
        "  print('''Modifying global variables''')\n",
        "  print(marks)\n",
        "\n",
        "modify_marks()\n",
        "\n",
        "print(\"************************** Or we can se return also ****************************\")\n",
        "print(\"************************** recommended way to modify global variable ****************************\")\n",
        "mark =30\n",
        "def marks():\n",
        "  return mark+35\n",
        "\n",
        "final = marks()\n",
        "print('''Modifying global variables''')\n",
        "print(final)"
      ],
      "execution_count": null,
      "outputs": [
        {
          "output_type": "stream",
          "text": [
            "\n",
            "*************** In this code we will learn how to modify a gblobal variable : Well in any programming language it is advised not to change \n",
            "*************************************gloabl varibles as it may crash your code.\n",
            "Modifying global variables\n",
            "65\n",
            "************************** Or we can se return also ****************************\n",
            "************************** recommended way to modify global variable ****************************\n",
            "Modifying global variables\n",
            "65\n"
          ],
          "name": "stdout"
        }
      ]
    },
    {
      "cell_type": "code",
      "metadata": {
        "id": "jtmU4pQDqEeZ"
      },
      "source": [
        "#GLOBAL Constants \n",
        "#These are the values which are contants and we declare them globally \n",
        "#USE UPPERCASE \n",
        "#PI=3.14\n",
        "#ANY_NAME=ANY_VALUE"
      ],
      "execution_count": null,
      "outputs": []
    },
    {
      "cell_type": "code",
      "metadata": {
        "colab": {
          "base_uri": "https://localhost:8080/"
        },
        "id": "QIM0uNpsri7H",
        "outputId": "ed7f9ced-852a-42ca-8c73-a7dc82c312f9"
      },
      "source": [
        "#Final Challenge\n",
        "import random\n",
        "EASY_LEVEL_TURNS=10\n",
        "HARD_LEVEL_TURNS=5\n",
        "\n",
        "def guess_checker(guess,answer,turns):\n",
        "  if guess<answer:\n",
        "    print(\"Too low\")\n",
        "    return turns-1\n",
        "  elif guess>answer:\n",
        "    print(\"Too high\")\n",
        "    return turns-1\n",
        "  else:\n",
        "    print(\"You've got it right!!!!!!\")\n",
        "    print(f\"The answer was {answer}\")\n",
        "      \n",
        "\n",
        "def set_difficulty():\n",
        "  level= input(\"choose your level of difficulty : Type 'easy' or 'hard':\").lower()\n",
        "  if level=='easy':\n",
        "    return EASY_LEVEL_TURNS\n",
        "  elif level=='hard':\n",
        "    return HARD_LEVEL_TURNS\n",
        "  else:\n",
        "    print(\"PLease!!!! Enter a valid choice.\")\n",
        "\n",
        "def game():\n",
        "  print(\"                                                                  WElCOME TO \")\n",
        "  print('''\n",
        "\n",
        "\n",
        "    /|    / /  //   / /  /|    //| |      //   ) )   //   / /  //   ) )       //   ) )   //   / /  //   / /  //   ) )  //   ) )   //   / /  //   ) ) \n",
        "   //|   / /  //   / /  //|   // | |     //___/ /   //____    //___/ /       //         //   / /  //____    ((        ((         //____    //___/ /  \n",
        "  // |  / /  //   / /  // |  //  | |    / __  (    / ____    / ___ (        //  ____   //   / /  / ____       \\\\        \\\\      / ____    / ___ (    \n",
        " //  | / /  //   / /  //  | //   | |   //    ) )  //        //   | |       //    / /  //   / /  //              ) )       ) )  //        //   | |    \n",
        "//   |/ /  ((___/ /  //   |//    | |  //____/ /  //____/ / //    | |      ((____/ /  ((___/ /  //____/ / ((___ / / ((___ / /  //____/ / //    | |\n",
        "\n",
        "\n",
        "''')\n",
        "  answer=random.randint(1,100)\n",
        "  # print(answer)\n",
        "  print(\"I'm thinking of a number between 1 and 100\")\n",
        "  attempts=set_difficulty()\n",
        "  \n",
        "  guess=0\n",
        "  while guess!=answer:\n",
        "    print(f\"You have {attempts} attempts remaining.\")\n",
        "    guess= int(input(\"Make a guess : \"))\n",
        "    attempts=guess_checker(guess,answer,attempts)\n",
        "\n",
        "    if attempts==0:\n",
        "      print(\"You have no attempts remianing. You lose!!!!!!\")\n",
        "      return \n",
        "    elif guess!=answer:\n",
        "      print(\"Guess again.\")\n",
        "\n",
        "game()"
      ],
      "execution_count": null,
      "outputs": [
        {
          "output_type": "stream",
          "text": [
            "                                                                  WElCOME TO \n",
            "\n",
            "\n",
            "\n",
            "    /|    / /  //   / /  /|    //| |      //   ) )   //   / /  //   ) )       //   ) )   //   / /  //   / /  //   ) )  //   ) )   //   / /  //   ) ) \n",
            "   //|   / /  //   / /  //|   // | |     //___/ /   //____    //___/ /       //         //   / /  //____    ((        ((         //____    //___/ /  \n",
            "  // |  / /  //   / /  // |  //  | |    / __  (    / ____    / ___ (        //  ____   //   / /  / ____       \\        \\      / ____    / ___ (    \n",
            " //  | / /  //   / /  //  | //   | |   //    ) )  //        //   | |       //    / /  //   / /  //              ) )       ) )  //        //   | |    \n",
            "//   |/ /  ((___/ /  //   |//    | |  //____/ /  //____/ / //    | |      ((____/ /  ((___/ /  //____/ / ((___ / / ((___ / /  //____/ / //    | |\n",
            "\n",
            "\n",
            "\n",
            "37\n",
            "I'm thinking of a number between 1 and 100\n",
            "choose your level of difficulty : Type 'easy' or 'hard':hard\n",
            "You have 5 attempts remaining.\n",
            "Make a guess : 56\n",
            "Too high\n",
            "Guess again.\n",
            "You have 4 attempts remaining.\n",
            "Make a guess : 67\n",
            "Too high\n",
            "Guess again.\n",
            "You have 3 attempts remaining.\n",
            "Make a guess : 78\n",
            "Too high\n",
            "Guess again.\n",
            "You have 2 attempts remaining.\n",
            "Make a guess : 37\n",
            "You've got it right!!!!!!\n",
            "The answer was 37\n"
          ],
          "name": "stdout"
        }
      ]
    }
  ]
}