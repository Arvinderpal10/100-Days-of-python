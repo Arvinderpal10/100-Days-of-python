{
  "nbformat": 4,
  "nbformat_minor": 0,
  "metadata": {
    "colab": {
      "name": "Day13-Python.ipynb",
      "provenance": [],
      "collapsed_sections": [],
      "authorship_tag": "ABX9TyOlSI7jUpIcEZaAWcyNpEGc"
    },
    "kernelspec": {
      "name": "python3",
      "display_name": "Python 3"
    },
    "language_info": {
      "name": "python"
    }
  },
  "cells": [
    {
      "cell_type": "markdown",
      "metadata": {
        "id": "SEFMiU6Rqf7S"
      },
      "source": [
        "#Debugging in **Python**"
      ]
    },
    {
      "cell_type": "code",
      "metadata": {
        "id": "kS9efQZghptG"
      },
      "source": [
        "############DEBUGGING#####################\n",
        "\n",
        "# Describe Problem\n",
        "def my_function():\n",
        "  for i in range(1, 20):\n",
        "    if i == 20:\n",
        "      print(\"You got it\")\n",
        "my_function()\n",
        "#No output\n"
      ],
      "execution_count": null,
      "outputs": []
    },
    {
      "cell_type": "code",
      "metadata": {
        "colab": {
          "base_uri": "https://localhost:8080/"
        },
        "id": "lmZ8Apl8m91i",
        "outputId": "d91d3320-15a7-4ed4-f471-5ca17e4be51b"
      },
      "source": [
        "print(\"Solution:\")\n",
        "def my_function_solution():\n",
        "  for i in range(1, 21):\n",
        "    if i == 20:\n",
        "      print(\"You got it\")\n",
        "my_function_solution()"
      ],
      "execution_count": null,
      "outputs": [
        {
          "output_type": "stream",
          "text": [
            " Solution:\n",
            "You got it\n"
          ],
          "name": "stdout"
        }
      ]
    },
    {
      "cell_type": "code",
      "metadata": {
        "colab": {
          "base_uri": "https://localhost:8080/",
          "height": 214
        },
        "id": "OC7Z8B35idVT",
        "outputId": "dfabf132-9f2c-4a3a-8903-8e6143b97134"
      },
      "source": [
        "# Reproduce the Bug\n",
        "from random import randint\n",
        "dice_imgs = [\"❶\", \"❷\", \"❸\", \"❹\", \"❺\", \"❻\"]\n",
        "dice_num = randint(1, 6)\n",
        "print(dice_num)\n",
        "print(dice_imgs[dice_num])\n"
      ],
      "execution_count": null,
      "outputs": [
        {
          "output_type": "stream",
          "text": [
            "6\n"
          ],
          "name": "stdout"
        },
        {
          "output_type": "error",
          "ename": "IndexError",
          "evalue": "ignored",
          "traceback": [
            "\u001b[0;31m---------------------------------------------------------------------------\u001b[0m",
            "\u001b[0;31mIndexError\u001b[0m                                Traceback (most recent call last)",
            "\u001b[0;32m<ipython-input-54-2a29ae2ef7cd>\u001b[0m in \u001b[0;36m<module>\u001b[0;34m()\u001b[0m\n\u001b[1;32m      4\u001b[0m \u001b[0mdice_num\u001b[0m \u001b[0;34m=\u001b[0m \u001b[0mrandint\u001b[0m\u001b[0;34m(\u001b[0m\u001b[0;36m1\u001b[0m\u001b[0;34m,\u001b[0m \u001b[0;36m6\u001b[0m\u001b[0;34m)\u001b[0m\u001b[0;34m\u001b[0m\u001b[0;34m\u001b[0m\u001b[0m\n\u001b[1;32m      5\u001b[0m \u001b[0mprint\u001b[0m\u001b[0;34m(\u001b[0m\u001b[0mdice_num\u001b[0m\u001b[0;34m)\u001b[0m\u001b[0;34m\u001b[0m\u001b[0;34m\u001b[0m\u001b[0m\n\u001b[0;32m----> 6\u001b[0;31m \u001b[0mprint\u001b[0m\u001b[0;34m(\u001b[0m\u001b[0mdice_imgs\u001b[0m\u001b[0;34m[\u001b[0m\u001b[0mdice_num\u001b[0m\u001b[0;34m]\u001b[0m\u001b[0;34m)\u001b[0m\u001b[0;34m\u001b[0m\u001b[0;34m\u001b[0m\u001b[0m\n\u001b[0m",
            "\u001b[0;31mIndexError\u001b[0m: list index out of range"
          ]
        }
      ]
    },
    {
      "cell_type": "code",
      "metadata": {
        "colab": {
          "base_uri": "https://localhost:8080/"
        },
        "id": "zNsAkCTUnP6Z",
        "outputId": "b00bd284-bc74-4eb7-8418-9fa74f53e9c1"
      },
      "source": [
        "# Reproduce the Bug\n",
        "print(\"Solution:\")\n",
        "dice_imgs_solution = [\"❶\", \"❷\", \"❸\", \"❹\", \"❺\", \"❻\"]\n",
        "dice_num_2 = randint(1, 6)\n",
        "print(dice_num_2)\n",
        "print(dice_imgs[dice_num_2-1])"
      ],
      "execution_count": null,
      "outputs": [
        {
          "output_type": "stream",
          "text": [
            "Solution:\n",
            "6\n",
            "❻\n"
          ],
          "name": "stdout"
        }
      ]
    },
    {
      "cell_type": "code",
      "metadata": {
        "colab": {
          "base_uri": "https://localhost:8080/"
        },
        "id": "VZBplCa7na9o",
        "outputId": "133035ec-3a23-4334-c987-3d0639465ab7"
      },
      "source": [
        "# Play Computer\n",
        "year = int(input(\"What's your year of birth? \"))\n",
        "if year > 1980 and year < 1994:\n",
        "  print(\"You are a millenial.\")\n",
        "elif year > 1994:\n",
        "  print(\"You are a Gen Z.\")\n",
        "#no output for 1994\n",
        "#Problem: No buckets for year less than 1980 and for year 1994"
      ],
      "execution_count": null,
      "outputs": [
        {
          "output_type": "stream",
          "text": [
            "What's your year of birth? 1994\n"
          ],
          "name": "stdout"
        }
      ]
    },
    {
      "cell_type": "code",
      "metadata": {
        "colab": {
          "base_uri": "https://localhost:8080/"
        },
        "id": "YfbTJxfhlW-i",
        "outputId": "5a5ed43a-2c99-4e15-b95b-4c7339e50a85"
      },
      "source": [
        "#Play Computer\n",
        "print(\"Solution:\")\n",
        "year = int(input(\"What's your year of birth?\"))\n",
        "if year > 1980 and year < 1994:\n",
        "  print(\"You are a millenial.\")\n",
        "elif year >= 1994:\n",
        "  print(\"You are a Gen Z.\")"
      ],
      "execution_count": null,
      "outputs": [
        {
          "output_type": "stream",
          "text": [
            " Problem:No buckets for year less than 1980 and for year 1994\n",
            "Comment the code above to see the solution to the bug.\n",
            "Solution:\n",
            "What's your year of birth?1994\n",
            "You are a Gen Z.\n"
          ],
          "name": "stdout"
        }
      ]
    },
    {
      "cell_type": "code",
      "metadata": {
        "colab": {
          "base_uri": "https://localhost:8080/",
          "height": 129
        },
        "id": "KBamfY-imS7q",
        "outputId": "2998eda1-0734-4dd0-90b0-f7a5f8214bd1"
      },
      "source": [
        "# Fix the Errors\n",
        "age = input(\"How old are you?\")\n",
        "if age > 18:\n",
        "print(\"You can drive at age {age}.\")"
      ],
      "execution_count": null,
      "outputs": [
        {
          "output_type": "error",
          "ename": "IndentationError",
          "evalue": "ignored",
          "traceback": [
            "\u001b[0;36m  File \u001b[0;32m\"<ipython-input-48-9886495cac23>\"\u001b[0;36m, line \u001b[0;32m4\u001b[0m\n\u001b[0;31m    print(\"You can drive at age {age}.\")\u001b[0m\n\u001b[0m        ^\u001b[0m\n\u001b[0;31mIndentationError\u001b[0m\u001b[0;31m:\u001b[0m expected an indented block\n"
          ]
        }
      ]
    },
    {
      "cell_type": "code",
      "metadata": {
        "colab": {
          "base_uri": "https://localhost:8080/",
          "height": 231
        },
        "id": "7Fc2iClNmsOK",
        "outputId": "60c6dd09-1ea1-4c17-a3fc-576c3971a495"
      },
      "source": [
        "# Fix the Errors\n",
        "age = input(\"How old are you?\")\n",
        "if age > 18:\n",
        "  print(\"You can drive at age {age}.\")"
      ],
      "execution_count": null,
      "outputs": [
        {
          "output_type": "stream",
          "text": [
            "How old are you?24\n"
          ],
          "name": "stdout"
        },
        {
          "output_type": "error",
          "ename": "TypeError",
          "evalue": "ignored",
          "traceback": [
            "\u001b[0;31m---------------------------------------------------------------------------\u001b[0m",
            "\u001b[0;31mTypeError\u001b[0m                                 Traceback (most recent call last)",
            "\u001b[0;32m<ipython-input-49-150b126c2ea3>\u001b[0m in \u001b[0;36m<module>\u001b[0;34m()\u001b[0m\n\u001b[1;32m      1\u001b[0m \u001b[0;31m# Fix the Errors\u001b[0m\u001b[0;34m\u001b[0m\u001b[0;34m\u001b[0m\u001b[0;34m\u001b[0m\u001b[0m\n\u001b[1;32m      2\u001b[0m \u001b[0mage\u001b[0m \u001b[0;34m=\u001b[0m \u001b[0minput\u001b[0m\u001b[0;34m(\u001b[0m\u001b[0;34m\"How old are you?\"\u001b[0m\u001b[0;34m)\u001b[0m\u001b[0;34m\u001b[0m\u001b[0;34m\u001b[0m\u001b[0m\n\u001b[0;32m----> 3\u001b[0;31m \u001b[0;32mif\u001b[0m \u001b[0mage\u001b[0m \u001b[0;34m>\u001b[0m \u001b[0;36m18\u001b[0m\u001b[0;34m:\u001b[0m\u001b[0;34m\u001b[0m\u001b[0;34m\u001b[0m\u001b[0m\n\u001b[0m\u001b[1;32m      4\u001b[0m   \u001b[0mprint\u001b[0m\u001b[0;34m(\u001b[0m\u001b[0;34m\"You can drive at age {age}.\"\u001b[0m\u001b[0;34m)\u001b[0m\u001b[0;34m\u001b[0m\u001b[0;34m\u001b[0m\u001b[0m\n",
            "\u001b[0;31mTypeError\u001b[0m: '>' not supported between instances of 'str' and 'int'"
          ]
        }
      ]
    },
    {
      "cell_type": "code",
      "metadata": {
        "colab": {
          "base_uri": "https://localhost:8080/"
        },
        "id": "niM9lG02mza6",
        "outputId": "f811b916-8f07-483c-c480-2a0751785020"
      },
      "source": [
        "# Fix the Errors\n",
        "age = int(input(\"How old are you?\"))\n",
        "if age > 18:\n",
        "  print(\"You can drive at age {age}.\")"
      ],
      "execution_count": null,
      "outputs": [
        {
          "output_type": "stream",
          "text": [
            "How old are you?34\n",
            "You can drive at age {age}.\n"
          ],
          "name": "stdout"
        }
      ]
    },
    {
      "cell_type": "code",
      "metadata": {
        "colab": {
          "base_uri": "https://localhost:8080/"
        },
        "id": "haPOfDcdo6Yz",
        "outputId": "69a32bfc-6a59-4f12-d18e-4462f6b9ead2"
      },
      "source": [
        "# Fix the Errors\n",
        "#Final solution\n",
        "age = int(input(\"How old are you?\"))\n",
        "if age > 18:\n",
        "  print(f\"You can drive at age {age}.\")"
      ],
      "execution_count": null,
      "outputs": [
        {
          "output_type": "stream",
          "text": [
            "How old are you?45\n",
            "You can drive at age 45.\n"
          ],
          "name": "stdout"
        }
      ]
    },
    {
      "cell_type": "code",
      "metadata": {
        "colab": {
          "base_uri": "https://localhost:8080/"
        },
        "id": "gGhaiHWgn8Vj",
        "outputId": "0db264bb-1df9-49bb-d09c-7a24bf2bfa24"
      },
      "source": [
        "#Print is Your Friend\n",
        "pages = 0\n",
        "word_per_page = 0\n",
        "pages = int(input(\"Number of pages: \"))\n",
        "word_per_page == int(input(\"Number of words per page: \"))\n",
        "total_words = pages * word_per_page\n",
        "print(total_words)"
      ],
      "execution_count": null,
      "outputs": [
        {
          "output_type": "stream",
          "text": [
            "Number of pages: 34\n",
            "Number of words per page: 12\n",
            "0\n"
          ],
          "name": "stdout"
        }
      ]
    },
    {
      "cell_type": "code",
      "metadata": {
        "colab": {
          "base_uri": "https://localhost:8080/"
        },
        "id": "IgOszIcGoO67",
        "outputId": "b8f83a59-1cff-4ce4-cd09-0ba81462c0f8"
      },
      "source": [
        "#Print is Your Friend\n",
        "pages = 0\n",
        "word_per_page = 0\n",
        "pages = int(input(\"Number of pages: \"))\n",
        "print(pages)\n",
        "word_per_page == int(input(\"Number of words per page: \"))\n",
        "print(word_per_page)\n",
        "total_words = pages * word_per_page\n",
        "print(total_words)"
      ],
      "execution_count": null,
      "outputs": [
        {
          "output_type": "stream",
          "text": [
            "Number of pages: 4\n",
            "4\n",
            "Number of words per page: 5\n",
            "0\n",
            "0\n"
          ],
          "name": "stdout"
        }
      ]
    },
    {
      "cell_type": "code",
      "metadata": {
        "colab": {
          "base_uri": "https://localhost:8080/"
        },
        "id": "PblA6Btzpd6T",
        "outputId": "dfe87886-1e79-46ab-8d5e-dd63df578844"
      },
      "source": [
        "#Print is Your Friend\n",
        "pages = 0\n",
        "word_per_page = 0\n",
        "pages = int(input(\"Number of pages: \"))\n",
        "# print(pages)\n",
        "word_per_page = int(input(\"Number of words per page: \"))  #remove == with =\n",
        "# print(word_per_page)\n",
        "total_words = pages * word_per_page\n",
        "print(total_words)"
      ],
      "execution_count": null,
      "outputs": [
        {
          "output_type": "stream",
          "text": [
            "Number of pages: 4\n",
            "Number of words per page: 5\n",
            "20\n"
          ],
          "name": "stdout"
        }
      ]
    },
    {
      "cell_type": "code",
      "metadata": {
        "colab": {
          "base_uri": "https://localhost:8080/"
        },
        "id": "TfOP13AxpwRT",
        "outputId": "a9bd0757-f8cb-47e7-ccfa-3635c98059a2"
      },
      "source": [
        "#Use a Debugger\n",
        "def mutate(a_list):\n",
        "  b_list = []\n",
        "  for item in a_list:\n",
        "    new_item = item * 2\n",
        "  b_list.append(new_item)\n",
        "  print(b_list)\n",
        "\n",
        "mutate([1,2,3,5,8,13])\n",
        "#input [1,2,3,5,8,13]\n",
        "#expected output:[2,4,6,10,16,26]"
      ],
      "execution_count": null,
      "outputs": [
        {
          "output_type": "stream",
          "text": [
            "[26]\n"
          ],
          "name": "stdout"
        }
      ]
    },
    {
      "cell_type": "code",
      "metadata": {
        "colab": {
          "base_uri": "https://localhost:8080/"
        },
        "id": "m_DmL_JDqTI9",
        "outputId": "4a676d53-f3e0-43b8-a9c9-653973a2f471"
      },
      "source": [
        "#Use a Debugger\n",
        "def mutate(a_list):\n",
        "  b_list = []\n",
        "  for item in a_list:\n",
        "    new_item = item * 2\n",
        "    b_list.append(new_item)  #indent this line properly inside loop\n",
        "  print(b_list)\n",
        "\n",
        "mutate([1,2,3,5,8,13])\n",
        "#input [1,2,3,5,8,13]\n",
        "#expected output:[2,4,6,10,16,26]"
      ],
      "execution_count": null,
      "outputs": [
        {
          "output_type": "stream",
          "text": [
            "[2, 4, 6, 10, 16, 26]\n"
          ],
          "name": "stdout"
        }
      ]
    },
    {
      "cell_type": "code",
      "metadata": {
        "colab": {
          "base_uri": "https://localhost:8080/",
          "height": 129
        },
        "id": "rRQv9xCNr2_L",
        "outputId": "66b9c18e-3f20-4aad-860f-3158ab04d06e"
      },
      "source": [
        "#Debugging Exercise\n",
        "\n",
        "num = int(input(\"Enter the number you want to check :  \"))\n",
        "if num%2=0:\n",
        "  print(\"An even number\")\n",
        "else :\n",
        "  print(\"An Odd number\")\n"
      ],
      "execution_count": null,
      "outputs": [
        {
          "output_type": "error",
          "ename": "SyntaxError",
          "evalue": "ignored",
          "traceback": [
            "\u001b[0;36m  File \u001b[0;32m\"<ipython-input-72-1ee3979feb99>\"\u001b[0;36m, line \u001b[0;32m4\u001b[0m\n\u001b[0;31m    if num%2=0:\u001b[0m\n\u001b[0m            ^\u001b[0m\n\u001b[0;31mSyntaxError\u001b[0m\u001b[0;31m:\u001b[0m invalid syntax\n"
          ]
        }
      ]
    },
    {
      "cell_type": "code",
      "metadata": {
        "colab": {
          "base_uri": "https://localhost:8080/"
        },
        "id": "Yub3fQ0RsalL",
        "outputId": "ccef75a2-1f6d-4aed-908e-520deab715a7"
      },
      "source": [
        "#Debugging Exercise\n",
        "\n",
        "num = int(input(\"Enter the number you want to check :  \"))\n",
        "if num%2==0:\n",
        "  print(\"An even number\")\n",
        "else :\n",
        "  print(\"An Odd number\")"
      ],
      "execution_count": null,
      "outputs": [
        {
          "output_type": "stream",
          "text": [
            "Enter the number you want to check :  45\n",
            "An Odd number\n"
          ],
          "name": "stdout"
        }
      ]
    },
    {
      "cell_type": "code",
      "metadata": {
        "colab": {
          "base_uri": "https://localhost:8080/",
          "height": 248
        },
        "id": "qDhJ7hLEsvT9",
        "outputId": "ca1e5fe3-6cc6-41e0-b523-c305c4a8f2ad"
      },
      "source": [
        "#Debugging Exercise 2\n",
        "year = input(\"Which year do you want to check?\")\n",
        "\n",
        "if year % 4 == 0:\n",
        "  if year % 100 == 0:\n",
        "    if year % 400 == 0:\n",
        "      print(\"Leap year.\")\n",
        "    else:\n",
        "      print(\"Not leap year.\")\n",
        "  else:\n",
        "    print(\"Leap year.\")\n",
        "else:\n",
        "  print(\"Not leap year.\")"
      ],
      "execution_count": null,
      "outputs": [
        {
          "output_type": "stream",
          "text": [
            "Which year do you want to check?2000\n"
          ],
          "name": "stdout"
        },
        {
          "output_type": "error",
          "ename": "TypeError",
          "evalue": "ignored",
          "traceback": [
            "\u001b[0;31m---------------------------------------------------------------------------\u001b[0m",
            "\u001b[0;31mTypeError\u001b[0m                                 Traceback (most recent call last)",
            "\u001b[0;32m<ipython-input-74-135333992b25>\u001b[0m in \u001b[0;36m<module>\u001b[0;34m()\u001b[0m\n\u001b[1;32m      2\u001b[0m \u001b[0myear\u001b[0m \u001b[0;34m=\u001b[0m \u001b[0minput\u001b[0m\u001b[0;34m(\u001b[0m\u001b[0;34m\"Which year do you want to check?\"\u001b[0m\u001b[0;34m)\u001b[0m\u001b[0;34m\u001b[0m\u001b[0;34m\u001b[0m\u001b[0m\n\u001b[1;32m      3\u001b[0m \u001b[0;34m\u001b[0m\u001b[0m\n\u001b[0;32m----> 4\u001b[0;31m \u001b[0;32mif\u001b[0m \u001b[0myear\u001b[0m \u001b[0;34m%\u001b[0m \u001b[0;36m4\u001b[0m \u001b[0;34m==\u001b[0m \u001b[0;36m0\u001b[0m\u001b[0;34m:\u001b[0m\u001b[0;34m\u001b[0m\u001b[0;34m\u001b[0m\u001b[0m\n\u001b[0m\u001b[1;32m      5\u001b[0m   \u001b[0;32mif\u001b[0m \u001b[0myear\u001b[0m \u001b[0;34m%\u001b[0m \u001b[0;36m100\u001b[0m \u001b[0;34m==\u001b[0m \u001b[0;36m0\u001b[0m\u001b[0;34m:\u001b[0m\u001b[0;34m\u001b[0m\u001b[0;34m\u001b[0m\u001b[0m\n\u001b[1;32m      6\u001b[0m     \u001b[0;32mif\u001b[0m \u001b[0myear\u001b[0m \u001b[0;34m%\u001b[0m \u001b[0;36m400\u001b[0m \u001b[0;34m==\u001b[0m \u001b[0;36m0\u001b[0m\u001b[0;34m:\u001b[0m\u001b[0;34m\u001b[0m\u001b[0;34m\u001b[0m\u001b[0m\n",
            "\u001b[0;31mTypeError\u001b[0m: not all arguments converted during string formatting"
          ]
        }
      ]
    },
    {
      "cell_type": "code",
      "metadata": {
        "colab": {
          "base_uri": "https://localhost:8080/"
        },
        "id": "RWM4__bus_f7",
        "outputId": "5370a373-4fae-4b45-82b0-8d1a25d05a34"
      },
      "source": [
        "#Debugging Exercise 2\n",
        "year = int(input(\"Which year do you want to check?\"))  #int() conversion missing\n",
        " \n",
        "if year % 4 == 0:\n",
        "  if year % 100 == 0:\n",
        "    if year % 400 == 0:\n",
        "      print(\"Leap year.\")\n",
        "    else:\n",
        "      print(\"Not leap year.\")\n",
        "  else:\n",
        "    print(\"Leap year.\")\n",
        "else:\n",
        "  print(\"Not leap year.\")"
      ],
      "execution_count": null,
      "outputs": [
        {
          "output_type": "stream",
          "text": [
            "Which year do you want to check?2000\n",
            "Leap year.\n"
          ],
          "name": "stdout"
        }
      ]
    },
    {
      "cell_type": "code",
      "metadata": {
        "colab": {
          "base_uri": "https://localhost:8080/"
        },
        "id": "NiyFz0XXtoFr",
        "outputId": "2f122fd6-3a2f-4cce-9db0-9ae5f4df8db0"
      },
      "source": [
        "#Final Quiz Debugging\n",
        "for number in range(1, 30):\n",
        "  if number % 3 == 0 or number % 5 == 0:\n",
        "    print(\"FizzBuzz\")\n",
        "  if number % 3 == 0:\n",
        "    print(\"Fizz\")\n",
        "  if number % 5 == 0:\n",
        "    print(\"Buzz\")\n",
        "  else:\n",
        "    print([number])"
      ],
      "execution_count": null,
      "outputs": [
        {
          "output_type": "stream",
          "text": [
            "[1]\n",
            "[2]\n",
            "FizzBuzz\n",
            "Fizz\n",
            "[3]\n",
            "[4]\n",
            "FizzBuzz\n",
            "Buzz\n",
            "FizzBuzz\n",
            "Fizz\n",
            "[6]\n",
            "[7]\n",
            "[8]\n",
            "FizzBuzz\n",
            "Fizz\n",
            "[9]\n",
            "FizzBuzz\n",
            "Buzz\n",
            "[11]\n",
            "FizzBuzz\n",
            "Fizz\n",
            "[12]\n",
            "[13]\n",
            "[14]\n",
            "FizzBuzz\n",
            "Fizz\n",
            "Buzz\n",
            "[16]\n",
            "[17]\n",
            "FizzBuzz\n",
            "Fizz\n",
            "[18]\n",
            "[19]\n",
            "FizzBuzz\n",
            "Buzz\n",
            "FizzBuzz\n",
            "Fizz\n",
            "[21]\n",
            "[22]\n",
            "[23]\n",
            "FizzBuzz\n",
            "Fizz\n",
            "[24]\n",
            "FizzBuzz\n",
            "Buzz\n",
            "[26]\n",
            "FizzBuzz\n",
            "Fizz\n",
            "[27]\n",
            "[28]\n",
            "[29]\n"
          ],
          "name": "stdout"
        }
      ]
    },
    {
      "cell_type": "code",
      "metadata": {
        "colab": {
          "base_uri": "https://localhost:8080/"
        },
        "id": "x_OjWdwjuKjF",
        "outputId": "245a46bc-8811-4ba5-a9dd-7853eba6e809"
      },
      "source": [
        "for number in range(1, 30):\n",
        "  if number % 3 == 0 and number % 5 == 0:\n",
        "    print(\"FizzBuzz\")\n",
        "  elif number % 3 == 0:\n",
        "    print(\"Fizz\")\n",
        "  elif number % 5 == 0:\n",
        "    print(\"Buzz\")\n",
        "  else:\n",
        "    print([number])"
      ],
      "execution_count": null,
      "outputs": [
        {
          "output_type": "stream",
          "text": [
            "[1]\n",
            "[2]\n",
            "Fizz\n",
            "[4]\n",
            "Buzz\n",
            "Fizz\n",
            "[7]\n",
            "[8]\n",
            "Fizz\n",
            "Buzz\n",
            "[11]\n",
            "Fizz\n",
            "[13]\n",
            "[14]\n",
            "FizzBuzz\n",
            "[16]\n",
            "[17]\n",
            "Fizz\n",
            "[19]\n",
            "Buzz\n",
            "Fizz\n",
            "[22]\n",
            "[23]\n",
            "Fizz\n",
            "Buzz\n",
            "[26]\n",
            "Fizz\n",
            "[28]\n",
            "[29]\n"
          ],
          "name": "stdout"
        }
      ]
    }
  ]
}