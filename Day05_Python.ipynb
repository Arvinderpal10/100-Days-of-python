{
  "nbformat": 4,
  "nbformat_minor": 0,
  "metadata": {
    "colab": {
      "name": "Day05-Python.ipynb",
      "provenance": [],
      "collapsed_sections": [],
      "authorship_tag": "ABX9TyOBIEa80ULNCwKGHQmvxRwX"
    },
    "kernelspec": {
      "name": "python3",
      "display_name": "Python 3"
    },
    "language_info": {
      "name": "python"
    }
  },
  "cells": [
    {
      "cell_type": "code",
      "metadata": {
        "id": "0pTzmsvzg_Jv"
      },
      "source": [
        "#Python Day 05 \n",
        "#Loops in Python\n",
        "\n"
      ],
      "execution_count": null,
      "outputs": []
    },
    {
      "cell_type": "code",
      "metadata": {
        "colab": {
          "base_uri": "https://localhost:8080/"
        },
        "id": "CxHh3Betjyi3",
        "outputId": "ed537b6c-347d-45a3-b195-e0240f878d81"
      },
      "source": [
        "#Average Height in class \n",
        "print(\"Welcome to Average Height Calculator:\\n\")\n",
        "n= int(input(\"Enter the number of students in the class: \"))\n",
        "students=[]\n",
        "avg_height=0\n",
        "for h in range(0,n):\n",
        "  height= int(input(\"Enter the hieght of student: \"))\n",
        "  students.append(height)\n",
        "  avg_height+=height2\n",
        "\n",
        "print(f\"Average height is :{int(avg_height/len(students))}\")\n",
        "\n"
      ],
      "execution_count": null,
      "outputs": [
        {
          "output_type": "stream",
          "text": [
            "Welcome to Average Height Calculator:\n",
            "\n",
            "Enter the number of students in the class: 3\n",
            "Enter the hieght of student: 12\n",
            "Enter the hieght of student: 4\n",
            "Enter the hieght of student: 18\n",
            "Average height is :11\n",
            "[12, 4, 18]\n"
          ],
          "name": "stdout"
        }
      ]
    },
    {
      "cell_type": "code",
      "metadata": {
        "colab": {
          "base_uri": "https://localhost:8080/"
        },
        "id": "2zMZt-9F364B",
        "outputId": "32d8961b-9d75-4bdc-9705-95be1e1de6c1"
      },
      "source": [
        "#Day - 05 code 2 \n",
        "#Max Score \n",
        "scores= input(\"Enter the marks of students seperated by lists : \\n\").split(',')\n",
        "len=0\n",
        "for n in scores:\n",
        "  len+=1\n",
        "\n",
        "max=scores[0]\n",
        "for i in range(1,len):\n",
        "  if scores[i] >= max:\n",
        "    max=scores[i]\n",
        "\n",
        "print(max) \n",
        "\n",
        "\n",
        "\n"
      ],
      "execution_count": null,
      "outputs": [
        {
          "output_type": "stream",
          "text": [
            "Enter the marks of students seperated by lists : \n",
            "23,34,32,45,67,6\n",
            "67\n"
          ],
          "name": "stdout"
        }
      ]
    },
    {
      "cell_type": "code",
      "metadata": {
        "id": "S-Nr50RJDaK_"
      },
      "source": [
        "# student_scores = input(\"Input a list of student scores \").split()\n",
        "# for n in range(0, len(student_scores)):\n",
        "#   student_scores[n] = int(student_scores[n])\n",
        "# print(student_scores)\n",
        "# highest_score = scores[0]\n",
        "# for score in student_scores:\n",
        "#   if score > highest_score:\n",
        "#     highest_score = score\n",
        "        \n",
        "# print(f\"The highest score in the class is: {highest_score}\")"
      ],
      "execution_count": null,
      "outputs": []
    },
    {
      "cell_type": "code",
      "metadata": {
        "colab": {
          "base_uri": "https://localhost:8080/"
        },
        "id": "n8fj3JlqF593",
        "outputId": "d2a7a081-cd1a-4f7d-cbf8-96a39d1924df"
      },
      "source": [
        "#Adding even 1\n",
        "total=0\n",
        "for n in range(1,101):\n",
        "  if n%2==0:\n",
        "    total+=n\n",
        "\n",
        "print(total)\n",
        "  "
      ],
      "execution_count": null,
      "outputs": [
        {
          "output_type": "stream",
          "text": [
            "2550\n"
          ],
          "name": "stdout"
        }
      ]
    },
    {
      "cell_type": "code",
      "metadata": {
        "colab": {
          "base_uri": "https://localhost:8080/"
        },
        "id": "I8AtiGsCGytn",
        "outputId": "3c970dde-6508-42ee-da85-343ae7a5863a"
      },
      "source": [
        "#Adding even 2\n",
        "total=0\n",
        "for n in range(2,101,2):\n",
        "    total+=n\n",
        "\n",
        "print(total)"
      ],
      "execution_count": null,
      "outputs": [
        {
          "output_type": "stream",
          "text": [
            "2550\n"
          ],
          "name": "stdout"
        }
      ]
    },
    {
      "cell_type": "code",
      "metadata": {
        "colab": {
          "base_uri": "https://localhost:8080/"
        },
        "id": "dDozfjTCG6n-",
        "outputId": "c0feeedb-2b1d-4a0f-9c9f-46456d2a6f2a"
      },
      "source": [
        "#Adding even 3\n",
        "total=0\n",
        "for n in range(1,102,2):\n",
        "  n=n-1\n",
        "  total+=n\n",
        "\n",
        "print(total)"
      ],
      "execution_count": null,
      "outputs": [
        {
          "output_type": "stream",
          "text": [
            "2550\n"
          ],
          "name": "stdout"
        }
      ]
    },
    {
      "cell_type": "code",
      "metadata": {
        "id": "nsd4iZ-EH56w"
      },
      "source": [
        "#FizzBuzz challenge 1\n",
        "\n",
        "for i in range(1,101):\n",
        "  if (i%3==0) and (i%5==0):\n",
        "    print(\"FizzBuzz\")\n",
        "  elif i%3==0:\n",
        "    print(\"Fizz\")\n",
        "  elif i%5==0:\n",
        "    print(\"Buzz\")\n",
        "  else:\n",
        "    print(i)"
      ],
      "execution_count": null,
      "outputs": []
    },
    {
      "cell_type": "code",
      "metadata": {
        "id": "ZNBguxPeI6lI",
        "colab": {
          "base_uri": "https://localhost:8080/"
        },
        "outputId": "82723a4e-bd5c-45e7-9a9a-0dd76e520538"
      },
      "source": [
        "#PyPassword Generator 1\n",
        "#EASY VERSION\n",
        "import random\n",
        "letters = ['a', 'b', 'c', 'd', 'e', 'f', 'g', 'h', 'i', 'j', 'k', 'l', 'm', 'n', 'o', 'p', 'q', 'r', 's', 't', 'u', 'v', 'w', 'x', 'y', 'z', \n",
        "           'A', 'B', 'C', 'D', 'E', 'F', 'G', 'H', 'I', 'J', 'K', 'L', 'M', 'N', 'O', 'P', 'Q', 'R', 'S', 'T', 'U', 'V', 'W', 'X', 'Y', 'Z']\n",
        "numbers = ['0', '1', '2', '3', '4', '5', '6', '7', '8', '9']\n",
        "symbols = ['!', '#', '$', '%', '&', '(', ')', '*', '+']\n",
        "\n",
        "print(\"Welcome to the PyPassword Generator!\")\n",
        "nr_letters= int(input(\"How many letters would you like in your password?\\n\")) \n",
        "nr_symbols = int(input(f\"How many symbols would you like?\\n\"))\n",
        "nr_numbers = int(input(f\"How many numbers would you like?\\n\"))\n",
        "password=\"\"\n",
        "#For Random letters\n",
        "for char in range(1,nr_letters+1):\n",
        "  password+= random.choice(letters)\n",
        "\n",
        "#For Random Symbols\n",
        "for char in range(1,nr_symbols+1):\n",
        "  password+=random.choice(symbols)\n",
        "\n",
        "#For Random Numbers\n",
        "for char in range(1,nr_numbers+1):\n",
        "  password+=random.choice(numbers)\n",
        "\n",
        "print(f\"Your random password is : {password}\")"
      ],
      "execution_count": null,
      "outputs": [
        {
          "output_type": "stream",
          "text": [
            "Welcome to the PyPassword Generator!\n",
            "How many letters would you like in your password?\n",
            "3\n",
            "How many symbols would you like?\n",
            "2\n",
            "How many numbers would you like?\n",
            "2\n",
            "Your random password is : gKa$)98\n"
          ],
          "name": "stdout"
        }
      ]
    },
    {
      "cell_type": "code",
      "metadata": {
        "colab": {
          "base_uri": "https://localhost:8080/"
        },
        "id": "FKcE7Y_rPd7v",
        "outputId": "0e9b11c6-032a-424d-abdf-efbfd27ce225"
      },
      "source": [
        "#PyPassword Generator 2\n",
        "#HARD VERSION\n",
        "import random\n",
        "letters = ['a', 'b', 'c', 'd', 'e', 'f', 'g', 'h', 'i', 'j', 'k', 'l', 'm', 'n', 'o', 'p', 'q', 'r', 's', 't', 'u', 'v', 'w', 'x', 'y', 'z', \n",
        "           'A', 'B', 'C', 'D', 'E', 'F', 'G', 'H', 'I', 'J', 'K', 'L', 'M', 'N', 'O', 'P', 'Q', 'R', 'S', 'T', 'U', 'V', 'W', 'X', 'Y', 'Z']\n",
        "numbers = ['0', '1', '2', '3', '4', '5', '6', '7', '8', '9']\n",
        "symbols = ['!', '#', '$', '%', '&', '(', ')', '*', '+']\n",
        "\n",
        "print(\"Welcome to the PyPassword Generator!\")\n",
        "nr_letters= int(input(\"How many letters would you like in your password?\\n\")) \n",
        "nr_symbols = int(input(f\"How many symbols would you like?\\n\"))\n",
        "nr_numbers = int(input(f\"How many numbers would you like?\\n\"))\n",
        "password=[]\n",
        "#For Random letters\n",
        "for char in range(1,nr_letters+1):\n",
        "  password.append(random.choice(letters))\n",
        "\n",
        "#For Random Symbols\n",
        "for char in range(1,nr_symbols+1):\n",
        "  password.append(random.choice(symbols))\n",
        "\n",
        "#For Random Numbers\n",
        "for char in range(1,nr_numbers+1):\n",
        "  password.append(random.choice(numbers))\n",
        "\n",
        "# print(hard_password)\n",
        "hard_password=\"\"\n",
        "for char in password:\n",
        "  hard_password+= str(random.choice(password))\n",
        "\n",
        "print(f\"Your random password is : {hard_password}\")"
      ],
      "execution_count": null,
      "outputs": [
        {
          "output_type": "stream",
          "text": [
            "Welcome to the PyPassword Generator!\n",
            "How many letters would you like in your password?\n",
            "5\n",
            "How many symbols would you like?\n",
            "3\n",
            "How many numbers would you like?\n",
            "5\n",
            "Your random password is : %(7g#7r7%7S07\n"
          ],
          "name": "stdout"
        }
      ]
    },
    {
      "cell_type": "code",
      "metadata": {
        "colab": {
          "base_uri": "https://localhost:8080/"
        },
        "id": "H6E75bieT56I",
        "outputId": "3667c452-f256-4ed7-bd0c-9f453ff6fd1b"
      },
      "source": [
        "#PyPassword Generator 3\n",
        "#HARD VERSION\n",
        "import random\n",
        "letters = ['a', 'b', 'c', 'd', 'e', 'f', 'g', 'h', 'i', 'j', 'k', 'l', 'm', 'n', 'o', 'p', 'q', 'r', 's', 't', 'u', 'v', 'w', 'x', 'y', 'z', \n",
        "           'A', 'B', 'C', 'D', 'E', 'F', 'G', 'H', 'I', 'J', 'K', 'L', 'M', 'N', 'O', 'P', 'Q', 'R', 'S', 'T', 'U', 'V', 'W', 'X', 'Y', 'Z']\n",
        "numbers = ['0', '1', '2', '3', '4', '5', '6', '7', '8', '9']\n",
        "symbols = ['!', '#', '$', '%', '&', '(', ')', '*', '+']\n",
        "\n",
        "print(\"Welcome to the PyPassword Generator!\")\n",
        "nr_letters= int(input(\"How many letters would you like in your password?\\n\")) \n",
        "nr_symbols = int(input(f\"How many symbols would you like?\\n\"))\n",
        "nr_numbers = int(input(f\"How many numbers would you like?\\n\"))\n",
        "password=[]\n",
        "#For Random letters\n",
        "for char in range(1,nr_letters+1):\n",
        "  password.append(random.choice(letters))\n",
        "\n",
        "#For Random Symbols\n",
        "for char in range(1,nr_symbols+1):\n",
        "  password.append(random.choice(symbols))\n",
        "\n",
        "#For Random Numbers\n",
        "for char in range(1,nr_numbers+1):\n",
        "  password.append(random.choice(numbers))\n",
        "\n",
        "#Shuffliung the elements in the list\n",
        "random_list= random.shuffle(password)\n",
        "# print(hard_password)\n",
        "hard_password=\"\"\n",
        "for char in password:\n",
        "  hard_password+= char\n",
        "\n",
        "print(f\"Your random password is : {hard_password}\")"
      ],
      "execution_count": null,
      "outputs": [
        {
          "output_type": "stream",
          "text": [
            "Welcome to the PyPassword Generator!\n",
            "How many letters would you like in your password?\n",
            "4\n",
            "How many symbols would you like?\n",
            "3\n",
            "How many numbers would you like?\n",
            "4\n",
            "Your random password is : 74%72gk!WN&\n"
          ],
          "name": "stdout"
        }
      ]
    }
  ]
}