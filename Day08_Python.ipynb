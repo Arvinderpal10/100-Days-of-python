{
  "nbformat": 4,
  "nbformat_minor": 0,
  "metadata": {
    "colab": {
      "name": "Day08-Python.ipynb",
      "provenance": [],
      "authorship_tag": "ABX9TyNFhr/Wm+EoLUw/ncrywTL9"
    },
    "kernelspec": {
      "name": "python3",
      "display_name": "Python 3"
    },
    "language_info": {
      "name": "python"
    }
  },
  "cells": [
    {
      "cell_type": "code",
      "metadata": {
        "id": "qkJfOCkBWm5G"
      },
      "source": [
        "#Python DAY-08 100  DAYS OF CODE "
      ],
      "execution_count": null,
      "outputs": []
    },
    {
      "cell_type": "code",
      "metadata": {
        "colab": {
          "base_uri": "https://localhost:8080/"
        },
        "id": "AZi6wlGOWvgX",
        "outputId": "5858f255-b506-46b1-fa24-c6f596d92c5e"
      },
      "source": [
        "#PYTHON Functions without inputs\n",
        "def greet():\n",
        "  print(\"Hello\")\n",
        "  print(\"How are you ?\")\n",
        "greet()"
      ],
      "execution_count": null,
      "outputs": [
        {
          "output_type": "stream",
          "text": [
            "Hello\n",
            "How are you ?\n"
          ],
          "name": "stdout"
        }
      ]
    },
    {
      "cell_type": "code",
      "metadata": {
        "colab": {
          "base_uri": "https://localhost:8080/"
        },
        "id": "r3JPw8czYoWH",
        "outputId": "1f4fb2f7-aa46-4a4d-8821-d56be40fbfb9"
      },
      "source": [
        "#Python functions with one argument\n",
        "def greeting(name):\n",
        "  print(f\"Hello {name}\")\n",
        "  print(f\"How is it going {name}?\")\n",
        "greeting(\"Arvinder\")"
      ],
      "execution_count": null,
      "outputs": [
        {
          "output_type": "stream",
          "text": [
            "Hello Arvinder\n",
            "How is it going Arvinder?\n"
          ],
          "name": "stdout"
        }
      ]
    },
    {
      "cell_type": "code",
      "metadata": {
        "colab": {
          "base_uri": "https://localhost:8080/"
        },
        "id": "RmfLjNhkZHzQ",
        "outputId": "7dc9dfd3-a3fc-4342-95bd-e3ad28be3791"
      },
      "source": [
        "#Python functions with more than one argument \n",
        "#Positional arguments\n",
        "def greeting(name, lastName,country):\n",
        "  print(f\"Hello {name}\")\n",
        "  print(f\"How is it going Mr. {lastName}?\")\n",
        "  print(f\"You're from {country} if I am not wrong?\")\n",
        "greeting(\"Arvinder\",\"Pal\",\"India\")\n",
        "print()\n",
        "greeting(\"Harvinder\",\"Pal\",\"Canada\")"
      ],
      "execution_count": null,
      "outputs": [
        {
          "output_type": "stream",
          "text": [
            "Hello Arvinder\n",
            "How is it going Mr. Pal?\n",
            "You're from India if I am not wrong?\n",
            "\n",
            "Hello Harvinder\n",
            "How is it going Mr. Pal?\n",
            "You're from Canada if I am not wrong?\n"
          ],
          "name": "stdout"
        }
      ]
    },
    {
      "cell_type": "code",
      "metadata": {
        "colab": {
          "base_uri": "https://localhost:8080/"
        },
        "id": "ZJEp5ODvZdk1",
        "outputId": "30b292eb-bd17-438a-914b-68685733bb8d"
      },
      "source": [
        "#Python functions with more than one Keyword argument\n",
        "#Problem with positional argumnets\n",
        "def greeting(name, lastName,country):\n",
        "  print(f\"Hello {name}\")\n",
        "  print(f\"How is it going Mr. {lastName}?\")\n",
        "  print(f\"You're from {country} if I am not wrong?\")\n",
        "greeting(\"Pal\",\"India\",\"Arvinder\")\n",
        "print()\n",
        "greeting(\"Harvinder\",\"Canada\",\"Pal\")\n",
        "\n",
        "#Totally messed up code "
      ],
      "execution_count": null,
      "outputs": [
        {
          "output_type": "stream",
          "text": [
            "Hello Pal\n",
            "How is it going Mr. India?\n",
            "You're from Arvinder if I am not wrong?\n",
            "\n",
            "Hello Harvinder\n",
            "How is it going Mr. Canada?\n",
            "You're from Pal if I am not wrong?\n"
          ],
          "name": "stdout"
        }
      ]
    },
    {
      "cell_type": "code",
      "metadata": {
        "colab": {
          "base_uri": "https://localhost:8080/"
        },
        "id": "917FiFcia5To",
        "outputId": "e9ce6201-546c-4f59-9233-45ebaba7dbc9"
      },
      "source": [
        "#Python functions with more than one Keyword argument\n",
        "def greeting(name, lastName,country):\n",
        "  print(f\"Hello {name}\")\n",
        "  print(f\"How is it going Mr. {lastName}?\")\n",
        "  print(f\"You're from {country} if I am not wrong?\")\n",
        "print(\"Comparision between positional and Keyword Arguments: \")\n",
        "greeting(lastName=\"Pal\",country=\"India\",name=\"Arvinder\")\n",
        "print()\n",
        "greeting(\"Harvinder\",\"Canada\",\"Pal\")\n",
        "\n",
        "#Totally messed up code "
      ],
      "execution_count": null,
      "outputs": [
        {
          "output_type": "stream",
          "text": [
            "Comparision between positional and Keyword Arguments: \n",
            "Hello Arvinder\n",
            "How is it going Mr. Pal?\n",
            "You're from India if I am not wrong?\n",
            "\n",
            "Hello Harvinder\n",
            "How is it going Mr. Canada?\n",
            "You're from Pal if I am not wrong?\n"
          ],
          "name": "stdout"
        }
      ]
    },
    {
      "cell_type": "code",
      "metadata": {
        "colab": {
          "base_uri": "https://localhost:8080/"
        },
        "id": "o5gAIEESclqw",
        "outputId": "1c9a80fe-4581-42b6-a5c7-2000be769018"
      },
      "source": [
        "#Wall Painting \n",
        "import math\n",
        "def wall_paint(height,width,cans):\n",
        "  area= height*width\n",
        "  cans_needed= area/cans;\n",
        "  print(f\"You need {math.ceil(cans_needed)} cans of paint.\")\n",
        "\n",
        "h= int(input(\"Enter the height of wall: \"))\n",
        "w= int(input(\"Enter the width of wall : \"))\n",
        "coverage=5\n",
        "wall_paint(height=h,cans=coverage,width=w)"
      ],
      "execution_count": null,
      "outputs": [
        {
          "output_type": "stream",
          "text": [
            "Enter the height of wall: 4\n",
            "Enter the width of wall : 4\n",
            "You need 4 cans of paint.\n"
          ],
          "name": "stdout"
        }
      ]
    },
    {
      "cell_type": "code",
      "metadata": {
        "id": "eCWSskfAfC14",
        "colab": {
          "base_uri": "https://localhost:8080/"
        },
        "outputId": "2ecc21f5-74dc-4daa-9be5-a4289fce0f59"
      },
      "source": [
        "#\n",
        "\n",
        "alphabet = ['a', 'b', 'c', 'd', 'e', 'f', 'g', 'h', 'i', 'j', 'k', 'l', 'm', 'n', 'o', 'p', 'q', 'r', 's', 't', 'u', 'v', 'w', 'x', 'y', 'z']\n",
        "\n",
        "direction = input(\"Type 'encode' to encrypt, type 'decode' to decrypt:\\n\")\n",
        "if direction==\"encode\":\n",
        "  text = input(\"Type your message:\\n\").lower()\n",
        "  shift = int(input(\"Type the shift number:\\n\"))\n",
        "  encrypt(text,shift)\n",
        "elif direction==\"decode\":\n",
        "  text = input(\"Type your message:\\n\").lower()\n",
        "  shift = int(input(\"Type the shift number:\\n\"))\n",
        "  decrypt(text,shift) \n",
        "else:\n",
        "  print(\"Please Enter a valid coice!!!!!!!!!!!!!!!!\")\n",
        "\n",
        "def encrypt(plain_text , shift_amount):\n",
        "  cipher_text=\"\"\n",
        "  for letter in plain_text:\n",
        "    position=alphabet.index(letter)\n",
        "    new_position=position+shift_amount\n",
        "    if new_position >=26:\n",
        "      new_position=new_position%26\n",
        "    else:\n",
        "      new_position=new_position\n",
        "    new_alphabet= alphabet[new_position]\n",
        "    cipher_text+=new_alphabet\n",
        "  print(cipher_text)\n",
        "\n",
        "def decrypt(plain_text , shift_amount):\n",
        "  decrypted_text=\"\"\n",
        "  for letter in plain_text:\n",
        "    position=alphabet.index(letter)\n",
        "    new_position=position-shift_amount\n",
        "    # if new_position <0:\n",
        "    #   new_position=new_position%26\n",
        "    # else:\n",
        "    #   new_position=new_position\n",
        "    new_alphabet= alphabet[new_position]\n",
        "    decrypted_text+=new_alphabet\n",
        "  print(decrypted_text)\n",
        "\n",
        "\n",
        "\n",
        " \n"
      ],
      "execution_count": null,
      "outputs": [
        {
          "output_type": "stream",
          "text": [
            "Type 'encode' to encrypt, type 'decode' to decrypt:\n",
            "efrg\n",
            "Please Enter a valid coice!!!!!!!!!!!!!!!!\n"
          ],
          "name": "stdout"
        }
      ]
    },
    {
      "cell_type": "code",
      "metadata": {
        "id": "fkh51LEF-iip"
      },
      "source": [
        ""
      ],
      "execution_count": null,
      "outputs": []
    },
    {
      "cell_type": "code",
      "metadata": {
        "id": "qb2l2cag85TK"
      },
      "source": [
        ""
      ],
      "execution_count": null,
      "outputs": []
    }
  ]
}