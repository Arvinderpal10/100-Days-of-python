{
  "nbformat": 4,
  "nbformat_minor": 0,
  "metadata": {
    "colab": {
      "name": "Day01-Python.ipynb",
      "provenance": [],
      "authorship_tag": "ABX9TyOaTniDnQx8bWvY2dzVbJHr"
    },
    "kernelspec": {
      "name": "python3",
      "display_name": "Python 3"
    },
    "language_info": {
      "name": "python"
    }
  },
  "cells": [
    {
      "cell_type": "code",
      "metadata": {
        "colab": {
          "base_uri": "https://localhost:8080/"
        },
        "id": "pce0Nqryd3r8",
        "outputId": "407f53bf-1c37-4a12-db87-5ac249f0e9b3"
      },
      "source": [
        "#Python Day 1 Code 1 \n",
        "'''Learning - Comments in Python,\n",
        "    print() function in python ,\n",
        "    How to print output with single and double quotes\n",
        "''' \n",
        "print(\"Day-1 - Python Print Function\")\n",
        "print(\"The function is declared like trhis:\")\n",
        "print(\"print('What is to print')\")"
      ],
      "execution_count": null,
      "outputs": [
        {
          "output_type": "stream",
          "text": [
            "Day-1 - Python Print Function\n",
            "The function is declared like trhis:\n",
            "print('What is to print')\n"
          ],
          "name": "stdout"
        }
      ]
    },
    {
      "cell_type": "code",
      "metadata": {
        "colab": {
          "base_uri": "https://localhost:8080/"
        },
        "id": "gple_tahfi6n",
        "outputId": "a19c515d-e3e3-492a-aea0-a778c5f5d57b"
      },
      "source": [
        "#Python Day-1 Code 2\n",
        "#Strings \n",
        "print(\"String Manipulation\")\n",
        "print('String concatenation is done with the \"+\" sign')\n",
        "print('e.g. print(\"Hello\" + \"World\")')\n",
        "print(\"New lines can be created with a backslash and n\")"
      ],
      "execution_count": null,
      "outputs": [
        {
          "output_type": "stream",
          "text": [
            "String Manipulation\n",
            "String concatenation is done with the \"+\" sign\n",
            "e.g. print(\"Hello\" + \"World\")\n",
            "New lines can be created with a backslash and n\n"
          ],
          "name": "stdout"
        }
      ]
    },
    {
      "cell_type": "code",
      "metadata": {
        "colab": {
          "base_uri": "https://localhost:8080/",
          "height": 35
        },
        "id": "lXf33x_GhAd8",
        "outputId": "de478531-fdd6-43c9-d0fb-a722a12acd6e"
      },
      "source": [
        "#Errors Possible \n",
        "'''\n",
        "Syntax error: missing closing braces or closing quotes for string\n",
        "indentation error : unnecessary space before the line starting \n",
        "Name error : varible names are not matching \n",
        "'''"
      ],
      "execution_count": null,
      "outputs": [
        {
          "output_type": "execute_result",
          "data": {
            "application/vnd.google.colaboratory.intrinsic+json": {
              "type": "string"
            },
            "text/plain": [
              "'\\nSyntax error: missing closing braces or closing quotes for string\\nindentation error : unnecessary space before the line starting \\n'"
            ]
          },
          "metadata": {
            "tags": []
          },
          "execution_count": 5
        }
      ]
    },
    {
      "cell_type": "code",
      "metadata": {
        "colab": {
          "base_uri": "https://localhost:8080/"
        },
        "id": "llmn7Dg1hr0C",
        "outputId": "a5b98ff2-75c5-44db-d529-2ac2ba2fa1d7"
      },
      "source": [
        "#Taking input in python \n",
        "# Day-1 code-3\n",
        "'''\n",
        "  learning-> \n",
        "  len function in Strings to calculate the length of the string \n",
        "  Nested functions \n",
        "  Taking input in python\n",
        "'''\n",
        "print(len(input(\"Enter your name :\")))\n"
      ],
      "execution_count": null,
      "outputs": [
        {
          "output_type": "stream",
          "text": [
            "Enter your name :Arvinder pal\n",
            "12\n"
          ],
          "name": "stdout"
        }
      ]
    },
    {
      "cell_type": "code",
      "metadata": {
        "colab": {
          "base_uri": "https://localhost:8080/"
        },
        "id": "E9qiAPmblIHf",
        "outputId": "27f0c046-d001-416e-cc6f-d6b0b3847492"
      },
      "source": [
        "#Variables in pyhton\n",
        "#Day-1 Code-4\n",
        "a= input(\"a: \")\n",
        "b=input(\"b: \")\n",
        "temp=a;\n",
        "a=b;\n",
        "b=temp;\n",
        "print(\"a: \"+ a)\n",
        "print(\"b: \"+b)\n"
      ],
      "execution_count": null,
      "outputs": [
        {
          "output_type": "stream",
          "text": [
            "a:5\n",
            "b:100\n",
            "a: 100\n",
            "b: 5\n"
          ],
          "name": "stdout"
        }
      ]
    },
    {
      "cell_type": "code",
      "metadata": {
        "colab": {
          "base_uri": "https://localhost:8080/"
        },
        "id": "OXjezdU1nsM7",
        "outputId": "c479a97e-3b3f-4337-c0b9-ad068c8b37ba"
      },
      "source": [
        "#Day -1 Challenge \n",
        "#Brand Name generator Project\n",
        "\n",
        "#Create a greeting message \n",
        "print(\"Welcome to the Brand Name Generator Game\")\n",
        "city= input(\"What's the name of city you grew up in \\n\")\n",
        "pet=input(\"What's your pet name \\n\")\n",
        "print(\"Your brand name could be \"+ city+ \" \"+pet)\n"
      ],
      "execution_count": null,
      "outputs": [
        {
          "output_type": "stream",
          "text": [
            "Welcome to the Brand Name Generator Game\n",
            "What's the name of city you grew up in \n",
            "Gorgeous\n",
            "What's your pet name \n",
            "Brand\n",
            "Your brand name could be Gorgeous Brand\n"
          ],
          "name": "stdout"
        }
      ]
    }
  ]
}