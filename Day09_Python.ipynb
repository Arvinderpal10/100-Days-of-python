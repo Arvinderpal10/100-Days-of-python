{
  "nbformat": 4,
  "nbformat_minor": 0,
  "metadata": {
    "colab": {
      "name": "Day09-Python.ipynb",
      "provenance": [],
      "authorship_tag": "ABX9TyPn09zk476tPC9eP/x8fNCP"
    },
    "kernelspec": {
      "name": "python3",
      "display_name": "Python 3"
    },
    "language_info": {
      "name": "python"
    }
  },
  "cells": [
    {
      "cell_type": "code",
      "metadata": {
        "id": "tf-YHUhoF0if"
      },
      "source": [
        "#Python 100 days of code DAY - 09\n",
        "#Pyhton Dictionaries \n"
      ],
      "execution_count": null,
      "outputs": []
    },
    {
      "cell_type": "code",
      "metadata": {
        "colab": {
          "base_uri": "https://localhost:8080/"
        },
        "id": "jsXlbOY8GEhx",
        "outputId": "441db4bc-40a0-4fd0-a055-96a5e46225c5"
      },
      "source": [
        "py_dictionaries={\n",
        "    1:\"Arvinder\",\n",
        "    2:\"Pal\",\n",
        "    3:1224354,\n",
        "    \"Fourth\":\"This is fourth element\",\n",
        "}\n",
        "#printing complete dictionary\n",
        "print(py_dictionaries)\n",
        "print()\n",
        "#printing individual elements of a dictionary\n",
        "print(f\"This is first value: {py_dictionaries[1]}\")\n",
        "print(f\"This is third value: {py_dictionaries[3]}\")\n",
        "print(f\"This is fourth value: {py_dictionaries['Fourth']}\")\n",
        "\n",
        "#Adding element to dictioanry\n",
        "py_dictionaries[\"Hello\"]=\"This is the newly added value\"\n",
        "\n",
        "print(f\"This is the latest dictionary: \\n {py_dictionaries}\")\n",
        "\n",
        "#UPDATING VALUES IN DICTIONARY\n",
        "py_dictionaries[\"Hello\"]=1234\n",
        "print(f\"This is the latest dictionary: \\n {py_dictionaries}\")\n",
        "\n",
        "#Removing element from dictionary\n",
        "print(py_dictionaries.pop(3))\n",
        "print(f\"This is the latest dictionary: \\n {py_dictionaries}\")\n",
        "\n",
        "#Looping through dictionary\n",
        "for key in py_dictionaries:\n",
        "  print(key)\n",
        "  print(py_dictionaries[key])\n",
        "  print()"
      ],
      "execution_count": null,
      "outputs": [
        {
          "output_type": "stream",
          "text": [
            "{1: 'Arvinder', 2: 'Pal', 3: 1224354, 'Fourth': 'This is fourth element'}\n",
            "\n",
            "This is first value: Arvinder\n",
            "This is third value: 1224354\n",
            "This is fourth value: This is fourth element\n",
            "This is the latest dictionary: \n",
            " {1: 'Arvinder', 2: 'Pal', 3: 1224354, 'Fourth': 'This is fourth element', 'Hello': 'This is the newly added value'}\n",
            "This is the latest dictionary: \n",
            " {1: 'Arvinder', 2: 'Pal', 3: 1224354, 'Fourth': 'This is fourth element', 'Hello': 1234}\n",
            "1224354\n",
            "This is the latest dictionary: \n",
            " {1: 'Arvinder', 2: 'Pal', 'Fourth': 'This is fourth element', 'Hello': 1234}\n",
            "1\n",
            "Arvinder\n",
            "\n",
            "2\n",
            "Pal\n",
            "\n",
            "Fourth\n",
            "This is fourth element\n",
            "\n",
            "Hello\n",
            "1234\n",
            "\n"
          ],
          "name": "stdout"
        }
      ]
    },
    {
      "cell_type": "code",
      "metadata": {
        "colab": {
          "base_uri": "https://localhost:8080/"
        },
        "id": "jasR-mQcVujK",
        "outputId": "a17761b1-0710-46c8-9052-d15700ce5c6a"
      },
      "source": [
        "#Grading System\n",
        "student_scores = {\n",
        "  \"Harry\": 81,\n",
        "  \"Ron\": 78,\n",
        "  \"Hermione\": 99, \n",
        "  \"Draco\": 74,\n",
        "  \"Neville\": 62,\n",
        "}\n",
        "\n",
        "\n",
        "#TODO-1: Create an empty dictionary called student_grades.\n",
        "student_grades={}\n",
        "#TODO-2: Write your code below to add the grades to student_grades.👇\n",
        "for key in student_scores:\n",
        "  if student_scores[key]>=91:\n",
        "    student_grades[key]=\"Outstanding\"\n",
        "  elif student_scores[key]>=81:\n",
        "    student_grades[key]=\"Exceeds Expectations\"\n",
        "  elif student_scores[key]>=71:\n",
        "    student_grades[key]=\"Acceptable\"\n",
        "  else:\n",
        "    student_grades[key]=\"Fail\"\n",
        "\n",
        "print(student_grades)\n"
      ],
      "execution_count": null,
      "outputs": [
        {
          "output_type": "stream",
          "text": [
            "{'Harry': 'Exceeds Expectations', 'Ron': 'Acceptable', 'Hermione': 'Outstanding', 'Draco': 'Acceptable', 'Neville': 'Fail'}\n"
          ],
          "name": "stdout"
        }
      ]
    },
    {
      "cell_type": "code",
      "metadata": {
        "colab": {
          "base_uri": "https://localhost:8080/"
        },
        "id": "EIxG65QhX7dZ",
        "outputId": "070c7b96-53f0-45a1-923e-7ee8ef671422"
      },
      "source": [
        "#Nesting\n",
        "print(\"************************************* Dictionary with Lists *************************************\")\n",
        "country_visits={\n",
        "    \"France\":\"Paris\",\n",
        "    \"India\":[\"Bangalore\",\"Hyderabad\",\"Mumbai\",\"Delhi\"],\n",
        "    \"Pakistan\":[\"Lahore\",\"Baksar\",\"Faijabad\",\"Islamabad\"],\n",
        "    \"USA\":\"San Diego\",\n",
        "}\n",
        "print(country_visits)\n",
        "print()\n",
        "print(country_visits[\"India\"])\n",
        "print(country_visits[\"India\"][0])\n",
        "print(country_visits[\"India\"][3])\n",
        "print(country_visits[\"India\"][-2])"
      ],
      "execution_count": null,
      "outputs": [
        {
          "output_type": "stream",
          "text": [
            "************************************* NESTING *************************************\n",
            "{'France': 'Paris', 'India': ['Bangalore', 'Hyderabad', 'Mumbai', 'Delhi'], 'Pakistan': ['Lahore', 'Baksar', 'Faijabad', 'Islamabad'], 'USA': 'San Diego'}\n",
            "\n",
            "['Bangalore', 'Hyderabad', 'Mumbai', 'Delhi']\n",
            "Bangalore\n",
            "Delhi\n",
            "Mumbai\n"
          ],
          "name": "stdout"
        }
      ]
    },
    {
      "cell_type": "code",
      "metadata": {
        "id": "YXijI8aZdYGS"
      },
      "source": [
        ""
      ],
      "execution_count": null,
      "outputs": []
    },
    {
      "cell_type": "code",
      "metadata": {
        "colab": {
          "base_uri": "https://localhost:8080/"
        },
        "id": "ytYHR8L2Zq8h",
        "outputId": "93f20552-630a-4077-b174-4d82e695d21b"
      },
      "source": [
        "#NESTING\n",
        "print(\"************************************* Dictionary in a Dictionary *************************************\")\n",
        "country_visits={\n",
        "    \"France\":\"Paris\",\n",
        "    \"India\":{1:\"Bangalore\",2:\"Hyderabad\",3:\"Mumbai\",4:\"Delhi\"},\n",
        "    \"Pakistan\":{\"first\":\"Lahore\",\"second\":\"Baksar\",\"third\":\"Faijabad\",\"fourth\":\"Islamabad\"},\n",
        "    \"USA\":\"San Diego\",\n",
        "}\n",
        "# print(country_visits)\n",
        "print(country_visits[\"India\"])\n",
        "print()\n",
        "print(country_visits[\"India\"][1])\n",
        "print(country_visits[\"India\"][2])\n",
        "print(country_visits[\"India\"][3])\n"
      ],
      "execution_count": null,
      "outputs": [
        {
          "output_type": "stream",
          "text": [
            "************************************* Dictionary in a Dictionary *************************************\n",
            "{1: 'Bangalore', 2: 'Hyderabad', 3: 'Mumbai', 4: 'Delhi'}\n",
            "\n",
            "Bangalore\n",
            "Hyderabad\n",
            "Mumbai\n"
          ],
          "name": "stdout"
        }
      ]
    },
    {
      "cell_type": "code",
      "metadata": {
        "colab": {
          "base_uri": "https://localhost:8080/"
        },
        "id": "EXLimZYQawE6",
        "outputId": "ec15ab70-5f24-475a-ffe5-6c3453452cd1"
      },
      "source": [
        "print(\"************************************* NESTING NEXT LEVEL *************************************\")\n",
        "country_visits={\n",
        "    \"France\":\"Paris\",\n",
        "    \"India\":{1:\"Bangalore\",2:\"Hyderabad\",3:\"Mumbai\",\"Haryana\":[\"sirsa\",\"fatehabad\",\"kaithal\",\"kurukshetra\"]},\n",
        "    \"Pakistan\":{\"first\":\"Lahore\",\"second\":\"Baksar\",\"third\":\"Faijabad\",\"fourth\":\"Islamabad\"},\n",
        "    \"USA\":\"San Diego\",\n",
        "}\n",
        "# print(country_visits)\n",
        "print(country_visits[\"India\"])\n",
        "print()\n",
        "print(country_visits[\"India\"][1])\n",
        "print(country_visits[\"India\"][2])\n",
        "print(country_visits[\"India\"][\"Haryana\"])\n",
        "print(country_visits[\"India\"][\"Haryana\"][0])\n",
        "print(country_visits[\"India\"][\"Haryana\"][3])\n",
        "print(country_visits[\"India\"][\"Haryana\"][-2])"
      ],
      "execution_count": null,
      "outputs": [
        {
          "output_type": "stream",
          "text": [
            "************************************* NESTING NEXT LEVEL *************************************\n",
            "{1: 'Bangalore', 2: 'Hyderabad', 3: 'Mumbai', 'Haryana': ['sirsa', 'fatehabad', 'kaithal', 'kurukshetra']}\n",
            "\n",
            "Bangalore\n",
            "Hyderabad\n",
            "['sirsa', 'fatehabad', 'kaithal', 'kurukshetra']\n",
            "sirsa\n",
            "kurukshetra\n",
            "kaithal\n"
          ],
          "name": "stdout"
        }
      ]
    },
    {
      "cell_type": "code",
      "metadata": {
        "colab": {
          "base_uri": "https://localhost:8080/"
        },
        "id": "fxDLcE6tdZ84",
        "outputId": "6005a5d2-9470-4811-b034-664ebc9362fd"
      },
      "source": [
        "travel_log = [\n",
        "{\n",
        "  \"country\": \"France\",\n",
        "  \"visits\": 12,\n",
        "  \"cities\": [\"Paris\", \"Lille\", \"Dijon\"]\n",
        "},\n",
        "{\n",
        "  \"country\": \"Germany\",\n",
        "  \"visits\": 5,\n",
        "  \"cities\": [\"Berlin\", \"Hamburg\", \"Stuttgart\"]\n",
        "},\n",
        "]\n",
        "#🚨 Do NOT change the code above\n",
        "\n",
        "#TODO: Write the function that will allow new countries\n",
        "#to be added to the travel_log. 👇\n",
        "def add_new_country(country_name,visits,cityNames):\n",
        "  new_travel_log={}\n",
        "  new_travel_log[\"country\"]=country_name\n",
        "  new_travel_log[\"visits\"]=visits\n",
        "  new_travel_log[\"cities\"]=cityNames\n",
        "  travel_log.append(new_travel_log)\n",
        "\n",
        "#🚨 Do not change the code below\n",
        "add_new_country(\"Russia\", 2, [\"Moscow\", \"Saint Petersburg\"])\n",
        "print(travel_log)"
      ],
      "execution_count": null,
      "outputs": [
        {
          "output_type": "stream",
          "text": [
            "[{'country': 'France', 'visits': 12, 'cities': ['Paris', 'Lille', 'Dijon']}, {'country': 'Germany', 'visits': 5, 'cities': ['Berlin', 'Hamburg', 'Stuttgart']}, {'country': 'Russia', 'visits': 2, 'cities': ['Moscow', 'Saint Petersburg']}]\n"
          ],
          "name": "stdout"
        }
      ]
    }
  ]
}