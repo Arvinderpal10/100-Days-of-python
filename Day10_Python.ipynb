{
  "nbformat": 4,
  "nbformat_minor": 0,
  "metadata": {
    "colab": {
      "name": "Day10-Python.ipynb",
      "provenance": [],
      "authorship_tag": "ABX9TyMNXzKVPXU76Bixfw76zS/O"
    },
    "kernelspec": {
      "name": "python3",
      "display_name": "Python 3"
    },
    "language_info": {
      "name": "python"
    }
  },
  "cells": [
    {
      "cell_type": "code",
      "metadata": {
        "id": "2UMB6f3D0XPg"
      },
      "source": [
        "#Python 100 Days of code \n",
        "#DAY -10"
      ],
      "execution_count": null,
      "outputs": []
    },
    {
      "cell_type": "code",
      "metadata": {
        "colab": {
          "base_uri": "https://localhost:8080/"
        },
        "id": "7YhPEkgE0hC0",
        "outputId": "13c3049c-f385-45bf-db52-0056b6d05437"
      },
      "source": [
        "#Functions with output\n",
        "def format_name(f_name,l_name):\n",
        "  formated_f_name=f_name\n",
        "  formated_l_name=l_name\n",
        "  print(f\"Your Name in Title Case is :{formated_f_name.title()} {formated_l_name.title()}\")\n",
        "\n",
        "fname=input(\"Please Enter your first name:\")\n",
        "lname=input(\"Please Enter your last name :\")\n",
        "format_name(fname,lname)"
      ],
      "execution_count": null,
      "outputs": [
        {
          "output_type": "stream",
          "text": [
            "Please Enter your first name:ARVINDER\n",
            "Please Enter your last name :pal\n",
            "Your Name in Title Case is :Arvinder Pal\n"
          ],
          "name": "stdout"
        }
      ]
    },
    {
      "cell_type": "code",
      "metadata": {
        "id": "Y7JuRoyrGC1l"
      },
      "source": [
        "#Functions with output \n",
        "#return keyword\n",
        "def format_name(f_name,l_name):\n",
        "  formated_f_name=f_name\n",
        "  formated_l_name=l_name\n",
        "  formated_full_name= formated_f_name.title() + \" \"+formated_l_name.title()\n",
        "  return formated_full_name\n",
        "\n",
        "fname=input(\"Please Enter your first name:\")\n",
        "lname=input(\"Please Enter your last name :\")\n",
        "output = format_name(fname,lname)\n",
        "print(f\"Your name in title case is : {output}\")"
      ],
      "execution_count": null,
      "outputs": []
    },
    {
      "cell_type": "code",
      "metadata": {
        "colab": {
          "base_uri": "https://localhost:8080/"
        },
        "id": "xJmfBJqIG16E",
        "outputId": "cf20538a-e1ef-4ab7-e215-687a099bb66e"
      },
      "source": [
        "#Functions with output \n",
        "#Multiple return keyword\n",
        "def format_name(f_name,l_name):\n",
        "  if l_name==\"\" or f_name==\"\":\n",
        "    final_output=\"Can't format empty strings.\"\n",
        "    return final_output\n",
        "  formated_f_name=f_name\n",
        "  formated_l_name=l_name\n",
        "  return f\"Your name in title case is :{formated_f_name.title()}  {formated_l_name.title()}\"\n",
        "\n",
        "fname=input(\"Please Enter your first name:\")\n",
        "lname=input(\"Please Enter your last name :\")\n",
        "output = format_name(fname,lname)\n",
        "print(f\"{output}\")\n"
      ],
      "execution_count": null,
      "outputs": [
        {
          "output_type": "stream",
          "text": [
            "Please Enter your first name:\n",
            "Please Enter your last name :\n",
            "Can't format empty strings.\n"
          ],
          "name": "stdout"
        }
      ]
    },
    {
      "cell_type": "code",
      "metadata": {
        "colab": {
          "base_uri": "https://localhost:8080/"
        },
        "id": "Uy8GPJ-yIp2l",
        "outputId": "cd0899d7-3e3a-4e95-a6e3-5b48ce34edf4"
      },
      "source": [
        "#Challenge 1\n",
        "#Leap year \n",
        "def is_leap(year):\n",
        "  # leap_year=False\n",
        "  if year % 4 == 0:\n",
        "    if year % 100 == 0:\n",
        "      if year % 400 == 0:\n",
        "        return True\n",
        "      else:\n",
        "        return False\n",
        "    else:\n",
        "      return True\n",
        "  else:\n",
        "    return False\n",
        "\n",
        "def days_in_month(year,month):\n",
        "  month_days = [31, 28, 31, 30, 31, 30, 31, 31, 30, 31, 30, 31] \n",
        "  if month>12 or month <1:\n",
        "    return -1\n",
        "  if is_leap(year) and month==2:\n",
        "    return 29\n",
        "  else:\n",
        "    return month_days[month-1] \n",
        "  \n",
        "  \n",
        "#🚨 Do NOT change any of the code below \n",
        "year = int(input(\"Enter a year: \"))\n",
        "month = int(input(\"Enter a month: \"))\n",
        "days = days_in_month(year, month)\n",
        "print(days)"
      ],
      "execution_count": null,
      "outputs": [
        {
          "output_type": "stream",
          "text": [
            "Enter a year: 2020\n",
            "Enter a month: 34\n",
            "-1\n"
          ],
          "name": "stdout"
        }
      ]
    },
    {
      "cell_type": "code",
      "metadata": {
        "id": "mLrH8ZOtUBBv"
      },
      "source": [
        "#calculator function\n",
        "print(\"\"\"\n",
        " _____________________\n",
        "|  _________________  |\n",
        "| | Pythonista   0. | |  .----------------.  .----------------.  .----------------.  .----------------. \n",
        "| |_________________| | | .--------------. || .--------------. || .--------------. || .--------------. |\n",
        "|  ___ ___ ___   ___  | | |     ______   | || |      __      | || |   _____      | || |     ______   | |\n",
        "| | 7 | 8 | 9 | | + | | | |   .' ___  |  | || |     /  \\     | || |  |_   _|     | || |   .' ___  |  | |\n",
        "| |___|___|___| |___| | | |  / .'   \\_|  | || |    / /\\ \\    | || |    | |       | || |  / .'   \\_|  | |\n",
        "| | 4 | 5 | 6 | | - | | | |  | |         | || |   / ____ \\   | || |    | |   _   | || |  | |         | |\n",
        "| |___|___|___| |___| | | |  \\ `.___.'\\  | || | _/ /    \\ \\_ | || |   _| |__/ |  | || |  \\ `.___.'\\  | |\n",
        "| | 1 | 2 | 3 | | x | | | |   `._____.'  | || ||____|  |____|| || |  |________|  | || |   `._____.'  | |\n",
        "| |___|___|___| |___| | | |              | || |              | || |              | || |              | |\n",
        "| | . | 0 | = | | / | | | '--------------' || '--------------' || '--------------' || '--------------' |\n",
        "| |___|___|___| |___| |  '----------------'  '----------------'  '----------------'  '----------------' \n",
        "|_____________________|\n",
        "\"\"\")\n",
        "\n",
        "first=(int(input(\"Enter the first number:\")))\n",
        "second=(int(input(\"Enter the first number:\")))\n",
        "print(\"Here is what this calculator can do for you ? Type: \")\n",
        "print(\"+\")\n",
        "print(\"-\")\n",
        "print(\"*\")\n",
        "print(\"/\")\n",
        "operator=(input(\"What you want to perform:\"))\n",
        "\n",
        "operations={\n",
        "    \"+\":add,\n",
        "    \"-\":subtract,\n",
        "    \"*\":multiply,\n",
        "    \"/\":divide,\n",
        "}\n",
        "\n"
      ],
      "execution_count": null,
      "outputs": []
    },
    {
      "cell_type": "code",
      "metadata": {
        "id": "4sMJ-rZIPizV"
      },
      "source": [
        ""
      ],
      "execution_count": null,
      "outputs": []
    }
  ]
}